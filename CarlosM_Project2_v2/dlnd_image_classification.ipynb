{
 "cells": [
  {
   "cell_type": "markdown",
   "metadata": {
    "collapsed": true,
    "deletable": true,
    "editable": true
   },
   "source": [
    "# Image Classification\n",
    "In this project, you'll classify images from the [CIFAR-10 dataset](https://www.cs.toronto.edu/~kriz/cifar.html).  The dataset consists of airplanes, dogs, cats, and other objects. You'll preprocess the images, then train a convolutional neural network on all the samples. The images need to be normalized and the labels need to be one-hot encoded.  You'll get to apply what you learned and build a convolutional, max pooling, dropout, and fully connected layers.  At the end, you'll get to see your neural network's predictions on the sample images.\n",
    "## Get the Data\n",
    "Run the following cell to download the [CIFAR-10 dataset for python](https://www.cs.toronto.edu/~kriz/cifar-10-python.tar.gz)."
   ]
  },
  {
   "cell_type": "code",
   "execution_count": 1,
   "metadata": {
    "collapsed": false,
    "deletable": true,
    "editable": true
   },
   "outputs": [
    {
     "name": "stderr",
     "output_type": "stream",
     "text": [
      "CIFAR-10 Dataset: 171MB [01:12, 2.37MB/s]                              \n"
     ]
    },
    {
     "name": "stdout",
     "output_type": "stream",
     "text": [
      "All files found!\n"
     ]
    }
   ],
   "source": [
    "\"\"\"\n",
    "DON'T MODIFY ANYTHING IN THIS CELL THAT IS BELOW THIS LINE\n",
    "\"\"\"\n",
    "from urllib.request import urlretrieve\n",
    "from os.path import isfile, isdir\n",
    "from tqdm import tqdm\n",
    "import problem_unittests as tests\n",
    "import tarfile\n",
    "\n",
    "cifar10_dataset_folder_path = 'cifar-10-batches-py'\n",
    "\n",
    "class DLProgress(tqdm):\n",
    "    last_block = 0\n",
    "\n",
    "    def hook(self, block_num=1, block_size=1, total_size=None):\n",
    "        self.total = total_size\n",
    "        self.update((block_num - self.last_block) * block_size)\n",
    "        self.last_block = block_num\n",
    "\n",
    "if not isfile('cifar-10-python.tar.gz'):\n",
    "    with DLProgress(unit='B', unit_scale=True, miniters=1, desc='CIFAR-10 Dataset') as pbar:\n",
    "        urlretrieve(\n",
    "            'https://www.cs.toronto.edu/~kriz/cifar-10-python.tar.gz',\n",
    "            'cifar-10-python.tar.gz',\n",
    "            pbar.hook)\n",
    "\n",
    "if not isdir(cifar10_dataset_folder_path):\n",
    "    with tarfile.open('cifar-10-python.tar.gz') as tar:\n",
    "        tar.extractall()\n",
    "        tar.close()\n",
    "\n",
    "\n",
    "tests.test_folder_path(cifar10_dataset_folder_path)"
   ]
  },
  {
   "cell_type": "markdown",
   "metadata": {
    "deletable": true,
    "editable": true
   },
   "source": [
    "## Explore the Data\n",
    "The dataset is broken into batches to prevent your machine from running out of memory.  The CIFAR-10 dataset consists of 5 batches, named `data_batch_1`, `data_batch_2`, etc.. Each batch contains the labels and images that are one of the following:\n",
    "* airplane\n",
    "* automobile\n",
    "* bird\n",
    "* cat\n",
    "* deer\n",
    "* dog\n",
    "* frog\n",
    "* horse\n",
    "* ship\n",
    "* truck\n",
    "\n",
    "Understanding a dataset is part of making predictions on the data.  Play around with the code cell below by changing the `batch_id` and `sample_id`. The `batch_id` is the id for a batch (1-5). The `sample_id` is the id for a image and label pair in the batch.\n",
    "\n",
    "Ask yourself \"What are all possible labels?\", \"What is the range of values for the image data?\", \"Are the labels in order or random?\".  Answers to questions like these will help you preprocess the data and end up with better predictions."
   ]
  },
  {
   "cell_type": "code",
   "execution_count": 2,
   "metadata": {
    "collapsed": false,
    "deletable": true,
    "editable": true
   },
   "outputs": [
    {
     "name": "stdout",
     "output_type": "stream",
     "text": [
      "\n",
      "Stats of batch 1:\n",
      "Samples: 10000\n",
      "Label Counts: {0: 1005, 1: 974, 2: 1032, 3: 1016, 4: 999, 5: 937, 6: 1030, 7: 1001, 8: 1025, 9: 981}\n",
      "First 20 Labels: [6, 9, 9, 4, 1, 1, 2, 7, 8, 3, 4, 7, 7, 2, 9, 9, 9, 3, 2, 6]\n",
      "\n",
      "Example of Image 6:\n",
      "Image - Min Value: 7 Max Value: 249\n",
      "Image - Shape: (32, 32, 3)\n",
      "Label - Label Id: 2 Name: bird\n"
     ]
    },
    {
     "data": {
      "image/png": "[encoded data removed]",
      "text/plain": [
       "<matplotlib.figure.Figure at 0x7fe260db5588>"
      ]
     },
     "metadata": {
      "image/png": {
       "height": 250.0,
       "width": 253.0
      }
     },
     "output_type": "display_data"
    }
   ],
   "source": [
    "%matplotlib inline\n",
    "%config InlineBackend.figure_format = 'retina'\n",
    "\n",
    "import helper\n",
    "import numpy as np\n",
    "\n",
    "# Explore the dataset\n",
    "batch_id = 1\n",
    "sample_id = 6\n",
    "helper.display_stats(cifar10_dataset_folder_path, batch_id, sample_id)"
   ]
  },
  {
   "cell_type": "markdown",
   "metadata": {
    "deletable": true,
    "editable": true
   },
   "source": [
    "## Implement Preprocess Functions\n",
    "### Normalize\n",
    "In the cell below, implement the `normalize` function to take in image data, `x`, and return it as a normalized Numpy array. The values should be in the range of 0 to 1, inclusive.  The return object should be the same shape as `x`."
   ]
  },
  {
   "cell_type": "code",
   "execution_count": 3,
   "metadata": {
    "collapsed": false,
    "deletable": true,
    "editable": true
   },
   "outputs": [
    {
     "name": "stdout",
     "output_type": "stream",
     "text": [
      "Tests Passed\n"
     ]
    }
   ],
   "source": [
    "def normalize(data):\n",
    "    \"\"\"\n",
    "    Normalize a list of sample image data in the range of 0 to 1\n",
    "    : x: List of image data.  The image shape is (32, 32, 3)\n",
    "    : return: Numpy array of normalize data\n",
    "    \"\"\"\n",
    "    # Convert all data to Float32 in preparation for normalization\n",
    "    data = data.astype('float32')\n",
    "    # Check is data is Not Normalized before attempting normalization\n",
    "    if data.max() > 1.0:\n",
    "        # divide by 255 to normalize\n",
    "        data/=255.0\n",
    "    return data\n",
    "\n",
    "\n",
    "\"\"\"\n",
    "DON'T MODIFY ANYTHING IN THIS CELL THAT IS BELOW THIS LINE\n",
    "\"\"\"\n",
    "tests.test_normalize(normalize)"
   ]
  },
  {
   "cell_type": "markdown",
   "metadata": {
    "deletable": true,
    "editable": true
   },
   "source": [
    "### One-hot encode\n",
    "Just like the previous code cell, you'll be implementing a function for preprocessing.  This time, you'll implement the `one_hot_encode` function. The input, `x`, are a list of labels.  Implement the function to return the list of labels as One-Hot encoded Numpy array.  The possible values for labels are 0 to 9. The one-hot encoding function should return the same encoding for each value between each call to `one_hot_encode`.  Make sure to save the map of encodings outside the function.\n",
    "\n",
    "Hint: Don't reinvent the wheel."
   ]
  },
  {
   "cell_type": "code",
   "execution_count": 4,
   "metadata": {
    "collapsed": false,
    "deletable": true,
    "editable": true
   },
   "outputs": [
    {
     "name": "stdout",
     "output_type": "stream",
     "text": [
      "Tests Passed\n"
     ]
    }
   ],
   "source": [
    "def one_hot_encode(labelsArray, total_lbs=10):\n",
    "    \"\"\"\n",
    "    One hot encode a list of sample labels. Return a one-hot encoded vector for each label.\n",
    "    : x: List of sample Labels\n",
    "    : return: Numpy array of one-hot encoded labels\n",
    "    \"\"\"\n",
    "    # Convert Array to numpy array (Numpy Object)\n",
    "    #numpyArray = np.array(labelsArray)\n",
    "    \n",
    "    # Array of zeros with the given shape (rows, columns)\n",
    "    # Rows (x) = numpyArray.shape[0]\n",
    "    # Columns (y) = total_lbs (Total Labels)\n",
    "    result = np.zeros((len(labelsArray), total_lbs))\n",
    "    \n",
    "    # set the number 1 to the position specified by numpyArray\n",
    "    # for every row (x) and column (value of numpyArray)\n",
    "    # Effectively creating a matrix with #1 on the position of the label\n",
    "    result[np.arange(len(labelsArray)), labelsArray] = 1\n",
    "    return result\n",
    "\n",
    "\"\"\"\n",
    "DON'T MODIFY ANYTHING IN THIS CELL THAT IS BELOW THIS LINE\n",
    "\"\"\"\n",
    "tests.test_one_hot_encode(one_hot_encode)"
   ]
  },
  {
   "cell_type": "markdown",
   "metadata": {
    "deletable": true,
    "editable": true
   },
   "source": [
    "### Randomize Data\n",
    "As you saw from exploring the data above, the order of the samples are randomized.  It doesn't hurt to randomize it again, but you don't need to for this dataset."
   ]
  },
  {
   "cell_type": "markdown",
   "metadata": {
    "deletable": true,
    "editable": true
   },
   "source": [
    "## Preprocess all the data and save it\n",
    "Running the code cell below will preprocess all the CIFAR-10 data and save it to file. The code below also uses 10% of the training data for validation."
   ]
  },
  {
   "cell_type": "code",
   "execution_count": 5,
   "metadata": {
    "collapsed": false,
    "deletable": true,
    "editable": true
   },
   "outputs": [],
   "source": [
    "\"\"\"\n",
    "DON'T MODIFY ANYTHING IN THIS CELL\n",
    "\"\"\"\n",
    "# Preprocess Training, Validation, and Testing Data\n",
    "helper.preprocess_and_save_data(cifar10_dataset_folder_path, normalize, one_hot_encode)"
   ]
  },
  {
   "cell_type": "markdown",
   "metadata": {
    "deletable": true,
    "editable": true
   },
   "source": [
    "# Check Point\n",
    "This is your first checkpoint.  If you ever decide to come back to this notebook or have to restart the notebook, you can start from here.  The preprocessed data has been saved to disk."
   ]
  },
  {
   "cell_type": "code",
   "execution_count": 6,
   "metadata": {
    "collapsed": true,
    "deletable": true,
    "editable": true
   },
   "outputs": [],
   "source": [
    "\"\"\"\n",
    "DON'T MODIFY ANYTHING IN THIS CELL\n",
    "\"\"\"\n",
    "import pickle\n",
    "import problem_unittests as tests\n",
    "import helper\n",
    "\n",
    "# Load the Preprocessed Validation data\n",
    "valid_features, valid_labels = pickle.load(open('preprocess_validation.p', mode='rb'))"
   ]
  },
  {
   "cell_type": "markdown",
   "metadata": {
    "deletable": true,
    "editable": true
   },
   "source": [
    "# Build the network\n",
    "For the neural network, you'll build each layer into a function.  Most of the code you've seen has been outside of functions. To test your code more thoroughly, we require that you put each layer in a function.  This allows us to give you better feedback and test for simple mistakes using our unittests before you submit your project.\n",
    "\n",
    ">**Note:** If you're finding it hard to dedicate enough time for this course each week, we've provided a small shortcut to this part of the project. In the next couple of problems, you'll have the option to use classes from the [TensorFlow Layers](https://www.tensorflow.org/api_docs/python/tf/layers) or [TensorFlow Layers (contrib)](https://www.tensorflow.org/api_guides/python/contrib.layers) packages to build each layer, except the layers you build in the \"Convolutional and Max Pooling Layer\" section.  TF Layers is similar to Keras's and TFLearn's abstraction to layers, so it's easy to pickup.\n",
    "\n",
    ">However, if you would like to get the most out of this course, try to solve all the problems _without_ using anything from the TF Layers packages. You **can** still use classes from other packages that happen to have the same name as ones you find in TF Layers! For example, instead of using the TF Layers version of the `conv2d` class, [tf.layers.conv2d](https://www.tensorflow.org/api_docs/python/tf/layers/conv2d), you would want to use the TF Neural Network version of `conv2d`, [tf.nn.conv2d](https://www.tensorflow.org/api_docs/python/tf/nn/conv2d). \n",
    "\n",
    "Let's begin!\n",
    "\n",
    "### Input\n",
    "The neural network needs to read the image data, one-hot encoded labels, and dropout keep probability. Implement the following functions\n",
    "* Implement `neural_net_image_input`\n",
    " * Return a [TF Placeholder](https://www.tensorflow.org/api_docs/python/tf/placeholder)\n",
    " * Set the shape using `image_shape` with batch size set to `None`.\n",
    " * Name the TensorFlow placeholder \"x\" using the TensorFlow `name` parameter in the [TF Placeholder](https://www.tensorflow.org/api_docs/python/tf/placeholder).\n",
    "* Implement `neural_net_label_input`\n",
    " * Return a [TF Placeholder](https://www.tensorflow.org/api_docs/python/tf/placeholder)\n",
    " * Set the shape using `n_classes` with batch size set to `None`.\n",
    " * Name the TensorFlow placeholder \"y\" using the TensorFlow `name` parameter in the [TF Placeholder](https://www.tensorflow.org/api_docs/python/tf/placeholder).\n",
    "* Implement `neural_net_keep_prob_input`\n",
    " * Return a [TF Placeholder](https://www.tensorflow.org/api_docs/python/tf/placeholder) for dropout keep probability.\n",
    " * Name the TensorFlow placeholder \"keep_prob\" using the TensorFlow `name` parameter in the [TF Placeholder](https://www.tensorflow.org/api_docs/python/tf/placeholder).\n",
    "\n",
    "These names will be used at the end of the project to load your saved model.\n",
    "\n",
    "Note: `None` for shapes in TensorFlow allow for a dynamic size."
   ]
  },
  {
   "cell_type": "code",
   "execution_count": 7,
   "metadata": {
    "collapsed": false,
    "deletable": true,
    "editable": true
   },
   "outputs": [
    {
     "name": "stdout",
     "output_type": "stream",
     "text": [
      "Image Input Tests Passed.\n",
      "Label Input Tests Passed.\n",
      "Keep Prob Tests Passed.\n"
     ]
    }
   ],
   "source": [
    "import tensorflow as tf\n",
    "\n",
    "def neural_net_image_input(image_shape):\n",
    "    \"\"\"\n",
    "    Return a Tensor for a bach of image input\n",
    "    : image_shape: Shape of the images\n",
    "    : return: Tensor for image input.\n",
    "    \"\"\"\n",
    "    return tf.placeholder(tf.float32, [None, image_shape[0],image_shape[1],image_shape[2]], name = 'x')\n",
    "\n",
    "\n",
    "def neural_net_label_input(n_classes):\n",
    "    \"\"\"\n",
    "    Return a Tensor for a batch of label input\n",
    "    : n_classes: Number of classes\n",
    "    : return: Tensor for label input.\n",
    "    \"\"\"\n",
    "    return tf.placeholder(tf.float32, [None, n_classes], name = 'y')\n",
    "\n",
    "\n",
    "\n",
    "def neural_net_keep_prob_input():\n",
    "    \"\"\"\n",
    "    Return a Tensor for keep probability\n",
    "    : return: Tensor for keep probability.\n",
    "    \"\"\"\n",
    "    return tf.placeholder(tf.float32, name = \"keep_prob\")\n",
    "\n",
    "\n",
    "\n",
    "\"\"\"\n",
    "DON'T MODIFY ANYTHING IN THIS CELL THAT IS BELOW THIS LINE\n",
    "\"\"\"\n",
    "tf.reset_default_graph()\n",
    "tests.test_nn_image_inputs(neural_net_image_input)\n",
    "tests.test_nn_label_inputs(neural_net_label_input)\n",
    "tests.test_nn_keep_prob_inputs(neural_net_keep_prob_input)"
   ]
  },
  {
   "cell_type": "markdown",
   "metadata": {
    "deletable": true,
    "editable": true
   },
   "source": [
    "### Convolution and Max Pooling Layer\n",
    "Convolution layers have a lot of success with images. For this code cell, you should implement the function `conv2d_maxpool` to apply convolution then max pooling:\n",
    "* Create the weight and bias using `conv_ksize`, `conv_num_outputs` and the shape of `x_tensor`.\n",
    "* Apply a convolution to `x_tensor` using weight and `conv_strides`.\n",
    " * We recommend you use same padding, but you're welcome to use any padding.\n",
    "* Add bias\n",
    "* Add a nonlinear activation to the convolution.\n",
    "* Apply Max Pooling using `pool_ksize` and `pool_strides`.\n",
    " * We recommend you use same padding, but you're welcome to use any padding.\n",
    "\n",
    "**Note:** You **can't** use [TensorFlow Layers](https://www.tensorflow.org/api_docs/python/tf/layers) or [TensorFlow Layers (contrib)](https://www.tensorflow.org/api_guides/python/contrib.layers) for **this** layer, but you can still use TensorFlow's [Neural Network](https://www.tensorflow.org/api_docs/python/tf/nn) package. You may still use the shortcut option for all the **other** layers."
   ]
  },
  {
   "cell_type": "code",
   "execution_count": 44,
   "metadata": {
    "collapsed": false,
    "deletable": true,
    "editable": true
   },
   "outputs": [
    {
     "name": "stdout",
     "output_type": "stream",
     "text": [
      "Tests Passed\n"
     ]
    }
   ],
   "source": [
    "def conv2d_maxpool(x_tensor, conv_num_outputs, conv_ksize, conv_strides, pool_ksize, pool_strides):\n",
    "    \"\"\"\n",
    "    Apply convolution then max pooling to x_tensor\n",
    "    :param x_tensor: TensorFlow Tensor\n",
    "    :param conv_num_outputs: Number of outputs for the convolutional layer\n",
    "    :param conv_ksize: kernal size 2-D Tuple for the convolutional layer\n",
    "    :param conv_strides: Stride 2-D Tuple for convolution\n",
    "    :param pool_ksize: kernal size 2-D Tuple for pool\n",
    "    :param pool_strides: Stride 2-D Tuple for pool\n",
    "    : return: A tensor that represents convolution and max pooling of x_tensor\n",
    "    \"\"\"\n",
    "    # Weight and bias\n",
    "    x = x_tensor.get_shape().as_list()\n",
    "    weight = tf.Variable(tf.random_normal([conv_ksize[0], conv_ksize[1], x[3], conv_num_outputs], stddev=5e-2, mean=0.01))\n",
    "    bias = tf.Variable(tf.zeros(conv_num_outputs))\n",
    "    conv1 = tf.nn.conv2d(x_tensor, weight, strides=[1, conv_strides[0], conv_strides[1], 1], padding='SAME')\n",
    "    conv1 = tf.nn.bias_add(conv1, bias)\n",
    "    \n",
    "    # Batch Normalization Tech. to normalize output of every conv layer\n",
    "    conv1 = tf.contrib.layers.batch_norm(conv1, center=True, scale=True)\n",
    "    conv1 = tf.nn.relu(conv1)\n",
    "    conv1 = tf.nn.max_pool(conv1, ksize=[1, pool_ksize[0], pool_ksize[1], 1], strides=[1, pool_strides[0], pool_strides[1], 1], padding='SAME')\n",
    "    return conv1\n",
    "\n",
    "\"\"\"\n",
    "DON'T MODIFY ANYTHING IN THIS CELL THAT IS BELOW THIS LINE\n",
    "\"\"\"\n",
    "tests.test_con_pool(conv2d_maxpool)"
   ]
  },
  {
   "cell_type": "markdown",
   "metadata": {
    "deletable": true,
    "editable": true
   },
   "source": [
    "### Flatten Layer\n",
    "Implement the `flatten` function to change the dimension of `x_tensor` from a 4-D tensor to a 2-D tensor.  The output should be the shape (*Batch Size*, *Flattened Image Size*). Shortcut option: you can use classes from the [TensorFlow Layers](https://www.tensorflow.org/api_docs/python/tf/layers) or [TensorFlow Layers (contrib)](https://www.tensorflow.org/api_guides/python/contrib.layers) packages for this layer. For more of a challenge, only use other TensorFlow packages."
   ]
  },
  {
   "cell_type": "code",
   "execution_count": 9,
   "metadata": {
    "collapsed": false,
    "deletable": true,
    "editable": true
   },
   "outputs": [
    {
     "name": "stdout",
     "output_type": "stream",
     "text": [
      "Tests Passed\n"
     ]
    }
   ],
   "source": [
    "def flatten(x_tensor):\n",
    "    \"\"\"\n",
    "    Flatten x_tensor to (Batch Size, Flattened Image Size)\n",
    "    : x_tensor: A tensor of size (Batch Size, ...), where ... are the image dimensions.\n",
    "    : return: A tensor of size (Batch Size, Flattened Image Size).\n",
    "    \"\"\"\n",
    "    # Get the Shape of the Tensor \n",
    "    x=x_tensor.get_shape().as_list()\n",
    "    \n",
    "    # Multiply dimensions and reshape infering\n",
    "    fc1 = tf.reshape(x_tensor, [-1,x[1]*x[2]*x[3]])\n",
    "    return fc1 \n",
    "\n",
    "\n",
    "\"\"\"\n",
    "DON'T MODIFY ANYTHING IN THIS CELL THAT IS BELOW THIS LINE\n",
    "\"\"\"\n",
    "tests.test_flatten(flatten)"
   ]
  },
  {
   "cell_type": "markdown",
   "metadata": {
    "deletable": true,
    "editable": true
   },
   "source": [
    "### Fully-Connected Layer\n",
    "Implement the `fully_conn` function to apply a fully connected layer to `x_tensor` with the shape (*Batch Size*, *num_outputs*). Shortcut option: you can use classes from the [TensorFlow Layers](https://www.tensorflow.org/api_docs/python/tf/layers) or [TensorFlow Layers (contrib)](https://www.tensorflow.org/api_guides/python/contrib.layers) packages for this layer. For more of a challenge, only use other TensorFlow packages."
   ]
  },
  {
   "cell_type": "code",
   "execution_count": 43,
   "metadata": {
    "collapsed": false,
    "deletable": true,
    "editable": true
   },
   "outputs": [
    {
     "name": "stdout",
     "output_type": "stream",
     "text": [
      "Tests Passed\n"
     ]
    }
   ],
   "source": [
    "def fully_conn(x_tensor, num_outputs):\n",
    "    \"\"\"\n",
    "    Apply a fully connected layer to x_tensor using weight and bias\n",
    "    : x_tensor: A 2-D tensor where the first dimension is batch size.\n",
    "    : num_outputs: The number of output that the new tensor should be.\n",
    "    : return: A 2-D tensor where the second dimension is num_outputs.\n",
    "    \"\"\"\n",
    "    # Get the Shape of the Tensor\n",
    "    x = x_tensor.get_shape().as_list()\n",
    "\n",
    "    # Create Weights and Bias using tensor shape and outputs\n",
    "    weight = tf.Variable(tf.truncated_normal([x[1], num_outputs], stddev=5e-2, mean=0.01))\n",
    "    bias = tf.Variable(tf.zeros(num_outputs))\n",
    "\n",
    "    # Multiply and Add Bias and Activation\n",
    "    return tf.nn.relu(tf.add(tf.matmul(x_tensor, weight), bias))\n",
    "\n",
    "\n",
    "\"\"\"\n",
    "DON'T MODIFY ANYTHING IN THIS CELL THAT IS BELOW THIS LINE\n",
    "\"\"\"\n",
    "tests.test_fully_conn(fully_conn)"
   ]
  },
  {
   "cell_type": "markdown",
   "metadata": {
    "deletable": true,
    "editable": true
   },
   "source": [
    "### Output Layer\n",
    "Implement the `output` function to apply a fully connected layer to `x_tensor` with the shape (*Batch Size*, *num_outputs*). Shortcut option: you can use classes from the [TensorFlow Layers](https://www.tensorflow.org/api_docs/python/tf/layers) or [TensorFlow Layers (contrib)](https://www.tensorflow.org/api_guides/python/contrib.layers) packages for this layer. For more of a challenge, only use other TensorFlow packages.\n",
    "\n",
    "**Note:** Activation, softmax, or cross entropy should **not** be applied to this."
   ]
  },
  {
   "cell_type": "code",
   "execution_count": 11,
   "metadata": {
    "collapsed": false,
    "deletable": true,
    "editable": true
   },
   "outputs": [
    {
     "name": "stdout",
     "output_type": "stream",
     "text": [
      "Tests Passed\n"
     ]
    }
   ],
   "source": [
    "def output(x_tensor, num_outputs):\n",
    "    \"\"\"\n",
    "    Apply a output layer to x_tensor using weight and bias\n",
    "    : x_tensor: A 2-D tensor where the first dimension is batch size.\n",
    "    : num_outputs: The number of output that the new tensor should be.\n",
    "    : return: A 2-D tensor where the second dimension is num_outputs.\n",
    "    \"\"\"\n",
    "    # Get the Shape of the Tensor\n",
    "    x = x_tensor.get_shape().as_list()\n",
    "    \n",
    "    # Create Weights and Bias using tensor shape and outputs\n",
    "    weight = tf.Variable(tf.truncated_normal([x[1], num_outputs]))\n",
    "    bias = tf.Variable(tf.zeros(num_outputs))\n",
    "    \n",
    "    # Output Layer - class prediction \n",
    "    out = tf.add(tf.matmul(x_tensor, weight), bias)\n",
    "    return out\n",
    "\n",
    "\n",
    "\"\"\"\n",
    "DON'T MODIFY ANYTHING IN THIS CELL THAT IS BELOW THIS LINE\n",
    "\"\"\"\n",
    "tests.test_output(output)"
   ]
  },
  {
   "cell_type": "markdown",
   "metadata": {
    "deletable": true,
    "editable": true
   },
   "source": [
    "### Create Convolutional Model\n",
    "Implement the function `conv_net` to create a convolutional neural network model. The function takes in a batch of images, `x`, and outputs logits.  Use the layers you created above to create this model:\n",
    "\n",
    "* Apply 1, 2, or 3 Convolution and Max Pool layers\n",
    "* Apply a Flatten Layer\n",
    "* Apply 1, 2, or 3 Fully Connected Layers\n",
    "* Apply an Output Layer\n",
    "* Return the output\n",
    "* Apply [TensorFlow's Dropout](https://www.tensorflow.org/api_docs/python/tf/nn/dropout) to one or more layers in the model using `keep_prob`. "
   ]
  },
  {
   "cell_type": "code",
   "execution_count": 45,
   "metadata": {
    "collapsed": false,
    "deletable": true,
    "editable": true
   },
   "outputs": [
    {
     "name": "stdout",
     "output_type": "stream",
     "text": [
      "Neural Network Built!\n"
     ]
    }
   ],
   "source": [
    "def conv_net(x, keep_prob):\n",
    "    \"\"\"\n",
    "    Create a convolutional neural network model\n",
    "    : x: Placeholder tensor that holds image data.\n",
    "    : keep_prob: Placeholder tensor that hold dropout keep probability.\n",
    "    : return: Tensor that represents logits\n",
    "    \"\"\"\n",
    "    # TODO: Apply 1, 2, or 3 Convolution and Max Pool layers\n",
    "    #    Play around with different number of outputs, kernel size and stride\n",
    "    # Function Definition from Above:\n",
    "    # conv2d_maxpool(x, conv_num_outputs, conv_ksize, conv_strides, pool_ksize, pool_strides)\n",
    "    conv1 = conv2d_maxpool(x, 32, (5,5), (1,1), (3,3), (2,2))\n",
    "    conv2 = conv2d_maxpool(conv1, 64, (5,5), (1,1), (3,3), (2,2))\n",
    "    conv2 = conv2d_maxpool(conv1, 128, (5,5), (1,1), (3,3), (2,2))\n",
    "    # TODO: Apply a Flatten Layer\n",
    "    # Function Definition from Above:\n",
    "    #   flatten(x_tensor)\n",
    "    conv2_f = flatten(conv2)\n",
    "\n",
    "    # TODO: Apply 1, 2, or 3 Fully Connected Layers\n",
    "    #    Play around with different number of outputs\n",
    "    # Function Definition from Above:\n",
    "    #   fully_conn(x_tensor, num_outputs)\n",
    "    fc1 = fully_conn(conv2_f, 512)\n",
    "    fc2 = fully_conn(fc1, 1024)\n",
    "    # TODO: Apply an Output Layer\n",
    "    #    Set this to the number of classes\n",
    "    # Function Definition from Above:\n",
    "    #   output(x_tensor, num_outputs)\n",
    "    ol1 = output(fc2, 10)\n",
    "\n",
    "    # Added Dropout after output layer; tried it before other layer\n",
    "    # but the network died.\n",
    "    do = tf.nn.dropout(ol1, keep_prob)\n",
    "    \n",
    "    # TODO: return output\n",
    "    return do\n",
    "\n",
    "\n",
    "\"\"\"\n",
    "DON'T MODIFY ANYTHING IN THIS CELL THAT IS BELOW THIS LINE\n",
    "\"\"\"\n",
    "\n",
    "##############################\n",
    "## Build the Neural Network ##\n",
    "##############################\n",
    "\n",
    "# Remove previous weights, bias, inputs, etc..\n",
    "tf.reset_default_graph()\n",
    "\n",
    "# Inputs\n",
    "x = neural_net_image_input((32, 32, 3))\n",
    "y = neural_net_label_input(10)\n",
    "keep_prob = neural_net_keep_prob_input()\n",
    "\n",
    "# Model\n",
    "logits = conv_net(x, keep_prob)\n",
    "\n",
    "# Name logits Tensor, so that is can be loaded from disk after training\n",
    "logits = tf.identity(logits, name='logits')\n",
    "\n",
    "# Loss and Optimizer\n",
    "cost = tf.reduce_mean(tf.nn.softmax_cross_entropy_with_logits(logits=logits, labels=y))\n",
    "optimizer = tf.train.AdamOptimizer(1e-4).minimize(cost)\n",
    "\n",
    "# Accuracy\n",
    "correct_pred = tf.equal(tf.argmax(logits, 1), tf.argmax(y, 1))\n",
    "accuracy = tf.reduce_mean(tf.cast(correct_pred, tf.float32), name='accuracy')\n",
    "\n",
    "tests.test_conv_net(conv_net)"
   ]
  },
  {
   "cell_type": "markdown",
   "metadata": {
    "deletable": true,
    "editable": true
   },
   "source": [
    "## Train the Neural Network\n",
    "### Single Optimization\n",
    "Implement the function `train_neural_network` to do a single optimization.  The optimization should use `optimizer` to optimize in `session` with a `feed_dict` of the following:\n",
    "* `x` for image input\n",
    "* `y` for labels\n",
    "* `keep_prob` for keep probability for dropout\n",
    "\n",
    "This function will be called for each batch, so `tf.global_variables_initializer()` has already been called.\n",
    "\n",
    "Note: Nothing needs to be returned. This function is only optimizing the neural network."
   ]
  },
  {
   "cell_type": "code",
   "execution_count": 13,
   "metadata": {
    "collapsed": false,
    "deletable": true,
    "editable": true
   },
   "outputs": [
    {
     "name": "stdout",
     "output_type": "stream",
     "text": [
      "Tests Passed\n"
     ]
    }
   ],
   "source": [
    "def train_neural_network(session, optimizer, keep_probability, feature_batch, label_batch):\n",
    "    \"\"\"\n",
    "    Optimize the session on a batch of images and labels\n",
    "    : session: Current TensorFlow session\n",
    "    : optimizer: TensorFlow optimizer function\n",
    "    : keep_probability: keep probability\n",
    "    : feature_batch: Batch of Numpy image data\n",
    "    : label_batch: Batch of Numpy label data\n",
    "    \"\"\"\n",
    "    session.run(optimizer, feed_dict={x: feature_batch, y: label_batch, keep_prob: keep_probability})\n",
    "    \n",
    "\"\"\"\n",
    "DON'T MODIFY ANYTHING IN THIS CELL THAT IS BELOW THIS LINE\n",
    "\"\"\"\n",
    "tests.test_train_nn(train_neural_network)"
   ]
  },
  {
   "cell_type": "markdown",
   "metadata": {
    "deletable": true,
    "editable": true
   },
   "source": [
    "### Show Stats\n",
    "Implement the function `print_stats` to print loss and validation accuracy.  Use the global variables `valid_features` and `valid_labels` to calculate validation accuracy.  Use a keep probability of `1.0` to calculate the loss and validation accuracy."
   ]
  },
  {
   "cell_type": "code",
   "execution_count": 14,
   "metadata": {
    "collapsed": false,
    "deletable": true,
    "editable": true
   },
   "outputs": [],
   "source": [
    "def print_stats(session, feature_batch, label_batch, cost, accuracy):\n",
    "    \"\"\"\n",
    "    Print information about loss and validation accuracy\n",
    "    : session: Current TensorFlow session\n",
    "    : feature_batch: Batch of Numpy image data\n",
    "    : label_batch: Batch of Numpy label data\n",
    "    : cost: TensorFlow cost function\n",
    "    : accuracy: TensorFlow accuracy function\n",
    "    \"\"\"\n",
    "    # Calculate batch loss and accuracy\n",
    "    loss = session.run(cost, feed_dict={x: feature_batch, y: label_batch, keep_prob: 1.})\n",
    "    valid_acc = session.run(accuracy, feed_dict={\n",
    "        x: valid_features,\n",
    "        y: valid_labels,\n",
    "        keep_prob: 1.})\n",
    "\n",
    "    print('Loss: {:>10.4f} Validation Accuracy: {:.6f}'.format(loss,valid_acc))"
   ]
  },
  {
   "cell_type": "markdown",
   "metadata": {
    "deletable": true,
    "editable": true
   },
   "source": [
    "### Hyperparameters\n",
    "Tune the following parameters:\n",
    "* Set `epochs` to the number of iterations until the network stops learning or start overfitting\n",
    "* Set `batch_size` to the highest number that your machine has memory for.  Most people set them to common sizes of memory:\n",
    " * 64\n",
    " * 128\n",
    " * 256\n",
    " * ...\n",
    "* Set `keep_probability` to the probability of keeping a node using dropout"
   ]
  },
  {
   "cell_type": "code",
   "execution_count": 39,
   "metadata": {
    "collapsed": true,
    "deletable": true,
    "editable": true
   },
   "outputs": [],
   "source": [
    "# TODO: Tune Parameters\n",
    "epochs = 100\n",
    "batch_size = 128\n",
    "keep_probability = 0.5"
   ]
  },
  {
   "cell_type": "markdown",
   "metadata": {
    "deletable": true,
    "editable": true
   },
   "source": [
    "### Train on a Single CIFAR-10 Batch\n",
    "Instead of training the neural network on all the CIFAR-10 batches of data, let's use a single batch. This should save time while you iterate on the model to get a better accuracy.  Once the final validation accuracy is 50% or greater, run the model on all the data in the next section."
   ]
  },
  {
   "cell_type": "code",
   "execution_count": 16,
   "metadata": {
    "collapsed": false,
    "deletable": true,
    "editable": true
   },
   "outputs": [
    {
     "name": "stdout",
     "output_type": "stream",
     "text": [
      "Checking the Training on a Single Batch...\n",
      "Epoch  1, CIFAR-10 Batch 1:  Loss:  1012.7285 Validation Accuracy: 0.280600\n",
      "Epoch  2, CIFAR-10 Batch 1:  Loss:   173.9096 Validation Accuracy: 0.314600\n",
      "Epoch  3, CIFAR-10 Batch 1:  Loss:   191.7067 Validation Accuracy: 0.311400\n",
      "Epoch  4, CIFAR-10 Batch 1:  Loss:    75.8169 Validation Accuracy: 0.309400\n",
      "Epoch  5, CIFAR-10 Batch 1:  Loss:    21.6604 Validation Accuracy: 0.316800\n",
      "Epoch  6, CIFAR-10 Batch 1:  Loss:    49.5173 Validation Accuracy: 0.298800\n",
      "Epoch  7, CIFAR-10 Batch 1:  Loss:    50.6974 Validation Accuracy: 0.302800\n",
      "Epoch  8, CIFAR-10 Batch 1:  Loss:   132.7009 Validation Accuracy: 0.331600\n",
      "Epoch  9, CIFAR-10 Batch 1:  Loss:    51.1833 Validation Accuracy: 0.345800\n",
      "Epoch 10, CIFAR-10 Batch 1:  Loss:    57.4080 Validation Accuracy: 0.319000\n",
      "Epoch 11, CIFAR-10 Batch 1:  Loss:    16.0289 Validation Accuracy: 0.320200\n",
      "Epoch 12, CIFAR-10 Batch 1:  Loss:    56.4554 Validation Accuracy: 0.338600\n",
      "Epoch 13, CIFAR-10 Batch 1:  Loss:     2.8586 Validation Accuracy: 0.335200\n",
      "Epoch 14, CIFAR-10 Batch 1:  Loss:    33.9354 Validation Accuracy: 0.349600\n",
      "Epoch 15, CIFAR-10 Batch 1:  Loss:     3.5779 Validation Accuracy: 0.334600\n",
      "Epoch 16, CIFAR-10 Batch 1:  Loss:    15.8491 Validation Accuracy: 0.357400\n",
      "Epoch 17, CIFAR-10 Batch 1:  Loss:    25.0994 Validation Accuracy: 0.358000\n",
      "Epoch 18, CIFAR-10 Batch 1:  Loss:     1.0921 Validation Accuracy: 0.368800\n",
      "Epoch 19, CIFAR-10 Batch 1:  Loss:    24.7177 Validation Accuracy: 0.364600\n",
      "Epoch 20, CIFAR-10 Batch 1:  Loss:     6.9495 Validation Accuracy: 0.381800\n",
      "Epoch 21, CIFAR-10 Batch 1:  Loss:    23.4355 Validation Accuracy: 0.363200\n",
      "Epoch 22, CIFAR-10 Batch 1:  Loss:     0.7764 Validation Accuracy: 0.366200\n",
      "Epoch 23, CIFAR-10 Batch 1:  Loss:    19.6514 Validation Accuracy: 0.379600\n",
      "Epoch 24, CIFAR-10 Batch 1:  Loss:     1.2765 Validation Accuracy: 0.380400\n",
      "Epoch 25, CIFAR-10 Batch 1:  Loss:     3.8888 Validation Accuracy: 0.383800\n",
      "Epoch 26, CIFAR-10 Batch 1:  Loss:     1.9598 Validation Accuracy: 0.379000\n",
      "Epoch 27, CIFAR-10 Batch 1:  Loss:     1.2081 Validation Accuracy: 0.383400\n",
      "Epoch 28, CIFAR-10 Batch 1:  Loss:     5.6742 Validation Accuracy: 0.398600\n",
      "Epoch 29, CIFAR-10 Batch 1:  Loss:     0.0000 Validation Accuracy: 0.390400\n",
      "Epoch 30, CIFAR-10 Batch 1:  Loss:     0.0949 Validation Accuracy: 0.393400\n"
     ]
    }
   ],
   "source": [
    "\"\"\"\n",
    "DON'T MODIFY ANYTHING IN THIS CELL\n",
    "\"\"\"\n",
    "print('Checking the Training on a Single Batch...')\n",
    "with tf.Session() as sess:\n",
    "    # Initializing the variables\n",
    "    sess.run(tf.global_variables_initializer())\n",
    "    \n",
    "    # Training cycle\n",
    "    for epoch in range(epochs):\n",
    "        batch_i = 1\n",
    "        for batch_features, batch_labels in helper.load_preprocess_training_batch(batch_i, batch_size):\n",
    "            train_neural_network(sess, optimizer, keep_probability, batch_features, batch_labels)\n",
    "        print('Epoch {:>2}, CIFAR-10 Batch {}:  '.format(epoch + 1, batch_i), end='')\n",
    "        print_stats(sess, batch_features, batch_labels, cost, accuracy)"
   ]
  },
  {
   "cell_type": "markdown",
   "metadata": {
    "deletable": true,
    "editable": true
   },
   "source": [
    "### Fully Train the Model\n",
    "Now that you got a good accuracy with a single CIFAR-10 batch, try it with all five batches."
   ]
  },
  {
   "cell_type": "code",
   "execution_count": 46,
   "metadata": {
    "collapsed": false,
    "deletable": true,
    "editable": true
   },
   "outputs": [
    {
     "name": "stdout",
     "output_type": "stream",
     "text": [
      "Training...\n",
      "Epoch  1, CIFAR-10 Batch 1:  Loss:   144.5920 Validation Accuracy: 0.179600\n",
      "Epoch  1, CIFAR-10 Batch 2:  Loss:   244.7793 Validation Accuracy: 0.141200\n",
      "Epoch  1, CIFAR-10 Batch 3:  Loss:   280.2766 Validation Accuracy: 0.126200\n",
      "Epoch  1, CIFAR-10 Batch 4:  Loss:    88.6685 Validation Accuracy: 0.195400\n",
      "Epoch  1, CIFAR-10 Batch 5:  Loss:   192.2382 Validation Accuracy: 0.206000\n",
      "Epoch  2, CIFAR-10 Batch 1:  Loss:   215.4647 Validation Accuracy: 0.201600\n",
      "Epoch  2, CIFAR-10 Batch 2:  Loss:   146.8320 Validation Accuracy: 0.197200\n",
      "Epoch  2, CIFAR-10 Batch 3:  Loss:   115.4242 Validation Accuracy: 0.255000\n",
      "Epoch  2, CIFAR-10 Batch 4:  Loss:   120.8510 Validation Accuracy: 0.198000\n",
      "Epoch  2, CIFAR-10 Batch 5:  Loss:   101.4128 Validation Accuracy: 0.190600\n",
      "Epoch  3, CIFAR-10 Batch 1:  Loss:   143.6717 Validation Accuracy: 0.263200\n",
      "Epoch  3, CIFAR-10 Batch 2:  Loss:   217.9221 Validation Accuracy: 0.194000\n",
      "Epoch  3, CIFAR-10 Batch 3:  Loss:   160.2292 Validation Accuracy: 0.165600\n",
      "Epoch  3, CIFAR-10 Batch 4:  Loss:   173.7155 Validation Accuracy: 0.220400\n",
      "Epoch  3, CIFAR-10 Batch 5:  Loss:   178.7390 Validation Accuracy: 0.262000\n",
      "Epoch  4, CIFAR-10 Batch 1:  Loss:   114.0415 Validation Accuracy: 0.176000\n",
      "Epoch  4, CIFAR-10 Batch 2:  Loss:   131.7612 Validation Accuracy: 0.199600\n",
      "Epoch  4, CIFAR-10 Batch 3:  Loss:    72.4614 Validation Accuracy: 0.209000\n",
      "Epoch  4, CIFAR-10 Batch 4:  Loss:    81.5187 Validation Accuracy: 0.233600\n",
      "Epoch  4, CIFAR-10 Batch 5:  Loss:    99.3658 Validation Accuracy: 0.231000\n",
      "Epoch  5, CIFAR-10 Batch 1:  Loss:    58.4843 Validation Accuracy: 0.254000\n",
      "Epoch  5, CIFAR-10 Batch 2:  Loss:    97.1832 Validation Accuracy: 0.233200\n",
      "Epoch  5, CIFAR-10 Batch 3:  Loss:   138.2004 Validation Accuracy: 0.243400\n",
      "Epoch  5, CIFAR-10 Batch 4:  Loss:   282.2009 Validation Accuracy: 0.271600\n",
      "Epoch  5, CIFAR-10 Batch 5:  Loss:   113.4337 Validation Accuracy: 0.237000\n",
      "Epoch  6, CIFAR-10 Batch 1:  Loss:    89.8026 Validation Accuracy: 0.304400\n",
      "Epoch  6, CIFAR-10 Batch 2:  Loss:    79.5671 Validation Accuracy: 0.281600\n",
      "Epoch  6, CIFAR-10 Batch 3:  Loss:   121.6496 Validation Accuracy: 0.263200\n",
      "Epoch  6, CIFAR-10 Batch 4:  Loss:    41.2070 Validation Accuracy: 0.300800\n",
      "Epoch  6, CIFAR-10 Batch 5:  Loss:   240.9617 Validation Accuracy: 0.237400\n",
      "Epoch  7, CIFAR-10 Batch 1:  Loss:    40.7588 Validation Accuracy: 0.250000\n",
      "Epoch  7, CIFAR-10 Batch 2:  Loss:    72.9107 Validation Accuracy: 0.310400\n",
      "Epoch  7, CIFAR-10 Batch 3:  Loss:   118.7067 Validation Accuracy: 0.239800\n",
      "Epoch  7, CIFAR-10 Batch 4:  Loss:    54.2522 Validation Accuracy: 0.253800\n",
      "Epoch  7, CIFAR-10 Batch 5:  Loss:   114.1559 Validation Accuracy: 0.272400\n",
      "Epoch  8, CIFAR-10 Batch 1:  Loss:    68.7883 Validation Accuracy: 0.215800\n",
      "Epoch  8, CIFAR-10 Batch 2:  Loss:   124.7608 Validation Accuracy: 0.230000\n",
      "Epoch  8, CIFAR-10 Batch 3:  Loss:    85.4661 Validation Accuracy: 0.301200\n",
      "Epoch  8, CIFAR-10 Batch 4:  Loss:    21.9460 Validation Accuracy: 0.319400\n",
      "Epoch  8, CIFAR-10 Batch 5:  Loss:   109.1754 Validation Accuracy: 0.303200\n",
      "Epoch  9, CIFAR-10 Batch 1:  Loss:    53.5675 Validation Accuracy: 0.326200\n",
      "Epoch  9, CIFAR-10 Batch 2:  Loss:    70.8362 Validation Accuracy: 0.283200\n",
      "Epoch  9, CIFAR-10 Batch 3:  Loss:    43.2077 Validation Accuracy: 0.331000\n",
      "Epoch  9, CIFAR-10 Batch 4:  Loss:    59.2074 Validation Accuracy: 0.233800\n",
      "Epoch  9, CIFAR-10 Batch 5:  Loss:    97.5286 Validation Accuracy: 0.308200\n",
      "Epoch 10, CIFAR-10 Batch 1:  Loss:   106.8098 Validation Accuracy: 0.259600\n",
      "Epoch 10, CIFAR-10 Batch 2:  Loss:   112.1532 Validation Accuracy: 0.244400\n",
      "Epoch 10, CIFAR-10 Batch 3:  Loss:    63.1969 Validation Accuracy: 0.277400\n",
      "Epoch 10, CIFAR-10 Batch 4:  Loss:    30.3070 Validation Accuracy: 0.316800\n",
      "Epoch 10, CIFAR-10 Batch 5:  Loss:    56.8260 Validation Accuracy: 0.347200\n",
      "Epoch 11, CIFAR-10 Batch 1:  Loss:    26.9426 Validation Accuracy: 0.322800\n",
      "Epoch 11, CIFAR-10 Batch 2:  Loss:    82.8732 Validation Accuracy: 0.250400\n",
      "Epoch 11, CIFAR-10 Batch 3:  Loss:    62.9233 Validation Accuracy: 0.283200\n",
      "Epoch 11, CIFAR-10 Batch 4:  Loss:    60.0825 Validation Accuracy: 0.354200\n",
      "Epoch 11, CIFAR-10 Batch 5:  Loss:   101.7196 Validation Accuracy: 0.291800\n",
      "Epoch 12, CIFAR-10 Batch 1:  Loss:    54.0462 Validation Accuracy: 0.309600\n",
      "Epoch 12, CIFAR-10 Batch 2:  Loss:    91.6873 Validation Accuracy: 0.323200\n",
      "Epoch 12, CIFAR-10 Batch 3:  Loss:    63.1348 Validation Accuracy: 0.326800\n",
      "Epoch 12, CIFAR-10 Batch 4:  Loss:    53.0382 Validation Accuracy: 0.327800\n",
      "Epoch 12, CIFAR-10 Batch 5:  Loss:   100.6232 Validation Accuracy: 0.304000\n",
      "Epoch 13, CIFAR-10 Batch 1:  Loss:    33.0407 Validation Accuracy: 0.353400\n",
      "Epoch 13, CIFAR-10 Batch 2:  Loss:   207.8501 Validation Accuracy: 0.315600\n",
      "Epoch 13, CIFAR-10 Batch 3:  Loss:    80.3235 Validation Accuracy: 0.335200\n",
      "Epoch 13, CIFAR-10 Batch 4:  Loss:    24.0340 Validation Accuracy: 0.326600\n",
      "Epoch 13, CIFAR-10 Batch 5:  Loss:   132.9572 Validation Accuracy: 0.277600\n",
      "Epoch 14, CIFAR-10 Batch 1:  Loss:    27.2212 Validation Accuracy: 0.322000\n",
      "Epoch 14, CIFAR-10 Batch 2:  Loss:    74.3011 Validation Accuracy: 0.313200\n",
      "Epoch 14, CIFAR-10 Batch 3:  Loss:    64.2017 Validation Accuracy: 0.328800\n",
      "Epoch 14, CIFAR-10 Batch 4:  Loss:    52.9062 Validation Accuracy: 0.331000\n",
      "Epoch 14, CIFAR-10 Batch 5:  Loss:    75.0369 Validation Accuracy: 0.343000\n",
      "Epoch 15, CIFAR-10 Batch 1:  Loss:    23.7709 Validation Accuracy: 0.379600\n",
      "Epoch 15, CIFAR-10 Batch 2:  Loss:    44.0940 Validation Accuracy: 0.353400\n",
      "Epoch 15, CIFAR-10 Batch 3:  Loss:    78.9234 Validation Accuracy: 0.348600\n",
      "Epoch 15, CIFAR-10 Batch 4:  Loss:    66.0491 Validation Accuracy: 0.312600\n",
      "Epoch 15, CIFAR-10 Batch 5:  Loss:    34.8804 Validation Accuracy: 0.377800\n",
      "Epoch 16, CIFAR-10 Batch 1:  Loss:    30.6415 Validation Accuracy: 0.307000\n",
      "Epoch 16, CIFAR-10 Batch 2:  Loss:    56.0044 Validation Accuracy: 0.325800\n",
      "Epoch 16, CIFAR-10 Batch 3:  Loss:    12.6109 Validation Accuracy: 0.378800\n",
      "Epoch 16, CIFAR-10 Batch 4:  Loss:    48.9802 Validation Accuracy: 0.372000\n",
      "Epoch 16, CIFAR-10 Batch 5:  Loss:    42.4325 Validation Accuracy: 0.300800\n",
      "Epoch 17, CIFAR-10 Batch 1:  Loss:    26.2347 Validation Accuracy: 0.336400\n",
      "Epoch 17, CIFAR-10 Batch 2:  Loss:    94.1761 Validation Accuracy: 0.345000\n",
      "Epoch 17, CIFAR-10 Batch 3:  Loss:    36.9028 Validation Accuracy: 0.342000\n",
      "Epoch 17, CIFAR-10 Batch 4:  Loss:    46.3676 Validation Accuracy: 0.365600\n",
      "Epoch 17, CIFAR-10 Batch 5:  Loss:    19.7045 Validation Accuracy: 0.407000\n",
      "Epoch 18, CIFAR-10 Batch 1:  Loss:    40.4953 Validation Accuracy: 0.254800\n",
      "Epoch 18, CIFAR-10 Batch 2:  Loss:    34.3107 Validation Accuracy: 0.375200\n",
      "Epoch 18, CIFAR-10 Batch 3:  Loss:    20.7018 Validation Accuracy: 0.365000\n",
      "Epoch 18, CIFAR-10 Batch 4:  Loss:    48.9497 Validation Accuracy: 0.332000\n",
      "Epoch 18, CIFAR-10 Batch 5:  Loss:    30.2418 Validation Accuracy: 0.377800\n",
      "Epoch 19, CIFAR-10 Batch 1:  Loss:    88.2027 Validation Accuracy: 0.352600\n",
      "Epoch 19, CIFAR-10 Batch 2:  Loss:    35.2203 Validation Accuracy: 0.371200\n",
      "Epoch 19, CIFAR-10 Batch 3:  Loss:    33.6955 Validation Accuracy: 0.364200\n",
      "Epoch 19, CIFAR-10 Batch 4:  Loss:    24.6600 Validation Accuracy: 0.368200\n",
      "Epoch 19, CIFAR-10 Batch 5:  Loss:    34.6328 Validation Accuracy: 0.353400\n",
      "Epoch 20, CIFAR-10 Batch 1:  Loss:    33.5882 Validation Accuracy: 0.318800\n",
      "Epoch 20, CIFAR-10 Batch 2:  Loss:    37.1797 Validation Accuracy: 0.355200\n",
      "Epoch 20, CIFAR-10 Batch 3:  Loss:    18.6388 Validation Accuracy: 0.378000\n",
      "Epoch 20, CIFAR-10 Batch 4:  Loss:    15.7321 Validation Accuracy: 0.394800\n",
      "Epoch 20, CIFAR-10 Batch 5:  Loss:    18.0132 Validation Accuracy: 0.367400\n",
      "Epoch 21, CIFAR-10 Batch 1:  Loss:    10.3918 Validation Accuracy: 0.403600\n",
      "Epoch 21, CIFAR-10 Batch 2:  Loss:    54.7764 Validation Accuracy: 0.303400\n",
      "Epoch 21, CIFAR-10 Batch 3:  Loss:    26.8143 Validation Accuracy: 0.370000\n",
      "Epoch 21, CIFAR-10 Batch 4:  Loss:    18.1459 Validation Accuracy: 0.313400\n",
      "Epoch 21, CIFAR-10 Batch 5:  Loss:    27.7423 Validation Accuracy: 0.376400\n",
      "Epoch 22, CIFAR-10 Batch 1:  Loss:    25.3703 Validation Accuracy: 0.348400\n",
      "Epoch 22, CIFAR-10 Batch 2:  Loss:    18.9215 Validation Accuracy: 0.374600\n",
      "Epoch 22, CIFAR-10 Batch 3:  Loss:    29.1799 Validation Accuracy: 0.362600\n",
      "Epoch 22, CIFAR-10 Batch 4:  Loss:     6.2573 Validation Accuracy: 0.402600\n",
      "Epoch 22, CIFAR-10 Batch 5:  Loss:    19.9332 Validation Accuracy: 0.384400\n",
      "Epoch 23, CIFAR-10 Batch 1:  Loss:    34.0209 Validation Accuracy: 0.377400\n",
      "Epoch 23, CIFAR-10 Batch 2:  Loss:    25.7399 Validation Accuracy: 0.344400\n",
      "Epoch 23, CIFAR-10 Batch 3:  Loss:    27.6721 Validation Accuracy: 0.357000\n",
      "Epoch 23, CIFAR-10 Batch 4:  Loss:    32.2387 Validation Accuracy: 0.350400\n",
      "Epoch 23, CIFAR-10 Batch 5:  Loss:    31.3015 Validation Accuracy: 0.347200\n",
      "Epoch 24, CIFAR-10 Batch 1:  Loss:    26.6810 Validation Accuracy: 0.371000\n",
      "Epoch 24, CIFAR-10 Batch 2:  Loss:    21.7396 Validation Accuracy: 0.397400\n",
      "Epoch 24, CIFAR-10 Batch 3:  Loss:     4.8055 Validation Accuracy: 0.388800\n",
      "Epoch 24, CIFAR-10 Batch 4:  Loss:     5.7480 Validation Accuracy: 0.374600\n",
      "Epoch 24, CIFAR-10 Batch 5:  Loss:    27.5901 Validation Accuracy: 0.388600\n",
      "Epoch 25, CIFAR-10 Batch 1:  Loss:     8.1964 Validation Accuracy: 0.423000\n",
      "Epoch 25, CIFAR-10 Batch 2:  Loss:    19.9796 Validation Accuracy: 0.364600\n",
      "Epoch 25, CIFAR-10 Batch 3:  Loss:     3.7691 Validation Accuracy: 0.415800\n",
      "Epoch 25, CIFAR-10 Batch 4:  Loss:     2.8239 Validation Accuracy: 0.403800\n",
      "Epoch 25, CIFAR-10 Batch 5:  Loss:    17.7497 Validation Accuracy: 0.412200\n",
      "Epoch 26, CIFAR-10 Batch 1:  Loss:    16.8212 Validation Accuracy: 0.351200\n",
      "Epoch 26, CIFAR-10 Batch 2:  Loss:    12.0919 Validation Accuracy: 0.393400\n",
      "Epoch 26, CIFAR-10 Batch 3:  Loss:     6.6443 Validation Accuracy: 0.402000\n",
      "Epoch 26, CIFAR-10 Batch 4:  Loss:    13.9184 Validation Accuracy: 0.317000\n",
      "Epoch 26, CIFAR-10 Batch 5:  Loss:    21.9917 Validation Accuracy: 0.381200\n",
      "Epoch 27, CIFAR-10 Batch 1:  Loss:     6.2449 Validation Accuracy: 0.399000\n",
      "Epoch 27, CIFAR-10 Batch 2:  Loss:    22.5307 Validation Accuracy: 0.343400\n",
      "Epoch 27, CIFAR-10 Batch 3:  Loss:     8.8485 Validation Accuracy: 0.408800\n",
      "Epoch 27, CIFAR-10 Batch 4:  Loss:     3.6252 Validation Accuracy: 0.406400\n",
      "Epoch 27, CIFAR-10 Batch 5:  Loss:    20.7076 Validation Accuracy: 0.382400\n",
      "Epoch 28, CIFAR-10 Batch 1:  Loss:    10.9915 Validation Accuracy: 0.400000\n",
      "Epoch 28, CIFAR-10 Batch 2:  Loss:     8.3838 Validation Accuracy: 0.390000\n",
      "Epoch 28, CIFAR-10 Batch 3:  Loss:     8.6642 Validation Accuracy: 0.397800\n",
      "Epoch 28, CIFAR-10 Batch 4:  Loss:     3.2386 Validation Accuracy: 0.381000\n",
      "Epoch 28, CIFAR-10 Batch 5:  Loss:    31.4968 Validation Accuracy: 0.369000\n",
      "Epoch 29, CIFAR-10 Batch 1:  Loss:     9.5839 Validation Accuracy: 0.373000\n",
      "Epoch 29, CIFAR-10 Batch 2:  Loss:    10.6545 Validation Accuracy: 0.373600\n",
      "Epoch 29, CIFAR-10 Batch 3:  Loss:     3.6832 Validation Accuracy: 0.434200\n",
      "Epoch 29, CIFAR-10 Batch 4:  Loss:     2.4861 Validation Accuracy: 0.379000\n",
      "Epoch 29, CIFAR-10 Batch 5:  Loss:    16.0673 Validation Accuracy: 0.410000\n",
      "Epoch 30, CIFAR-10 Batch 1:  Loss:     8.3772 Validation Accuracy: 0.360000\n",
      "Epoch 30, CIFAR-10 Batch 2:  Loss:     7.2559 Validation Accuracy: 0.425200\n",
      "Epoch 30, CIFAR-10 Batch 3:  Loss:     5.1744 Validation Accuracy: 0.414000\n",
      "Epoch 30, CIFAR-10 Batch 4:  Loss:    13.1644 Validation Accuracy: 0.360600\n",
      "Epoch 30, CIFAR-10 Batch 5:  Loss:    16.4334 Validation Accuracy: 0.403800\n",
      "Epoch 31, CIFAR-10 Batch 1:  Loss:    10.7321 Validation Accuracy: 0.394600\n",
      "Epoch 31, CIFAR-10 Batch 2:  Loss:     2.1409 Validation Accuracy: 0.381800\n",
      "Epoch 31, CIFAR-10 Batch 3:  Loss:     3.8962 Validation Accuracy: 0.426600\n",
      "Epoch 31, CIFAR-10 Batch 4:  Loss:     2.3655 Validation Accuracy: 0.406400\n",
      "Epoch 31, CIFAR-10 Batch 5:  Loss:    20.6115 Validation Accuracy: 0.387400\n",
      "Epoch 32, CIFAR-10 Batch 1:  Loss:     7.4380 Validation Accuracy: 0.412400\n",
      "Epoch 32, CIFAR-10 Batch 2:  Loss:     2.9801 Validation Accuracy: 0.382000\n",
      "Epoch 32, CIFAR-10 Batch 3:  Loss:     9.5711 Validation Accuracy: 0.385200\n",
      "Epoch 32, CIFAR-10 Batch 4:  Loss:     1.8781 Validation Accuracy: 0.402200\n",
      "Epoch 32, CIFAR-10 Batch 5:  Loss:    18.4391 Validation Accuracy: 0.366000\n",
      "Epoch 33, CIFAR-10 Batch 1:  Loss:     7.0856 Validation Accuracy: 0.370600\n",
      "Epoch 33, CIFAR-10 Batch 2:  Loss:     5.2642 Validation Accuracy: 0.381600\n",
      "Epoch 33, CIFAR-10 Batch 3:  Loss:     7.1206 Validation Accuracy: 0.400600\n",
      "Epoch 33, CIFAR-10 Batch 4:  Loss:     3.0127 Validation Accuracy: 0.414000\n",
      "Epoch 33, CIFAR-10 Batch 5:  Loss:    16.7639 Validation Accuracy: 0.378400\n",
      "Epoch 34, CIFAR-10 Batch 1:  Loss:     4.5147 Validation Accuracy: 0.397000\n",
      "Epoch 34, CIFAR-10 Batch 2:  Loss:     2.2726 Validation Accuracy: 0.417000\n",
      "Epoch 34, CIFAR-10 Batch 3:  Loss:     3.2915 Validation Accuracy: 0.417400\n",
      "Epoch 34, CIFAR-10 Batch 4:  Loss:     3.1359 Validation Accuracy: 0.395800\n",
      "Epoch 34, CIFAR-10 Batch 5:  Loss:     3.4998 Validation Accuracy: 0.417400\n",
      "Epoch 35, CIFAR-10 Batch 1:  Loss:     2.0133 Validation Accuracy: 0.406000\n",
      "Epoch 35, CIFAR-10 Batch 2:  Loss:     4.7589 Validation Accuracy: 0.388800\n",
      "Epoch 35, CIFAR-10 Batch 3:  Loss:     1.3669 Validation Accuracy: 0.424200\n",
      "Epoch 35, CIFAR-10 Batch 4:  Loss:     1.5403 Validation Accuracy: 0.436000\n",
      "Epoch 35, CIFAR-10 Batch 5:  Loss:     2.9552 Validation Accuracy: 0.405400\n",
      "Epoch 36, CIFAR-10 Batch 1:  Loss:     2.1330 Validation Accuracy: 0.415600\n",
      "Epoch 36, CIFAR-10 Batch 2:  Loss:     2.7006 Validation Accuracy: 0.411000\n",
      "Epoch 36, CIFAR-10 Batch 3:  Loss:     2.8373 Validation Accuracy: 0.429200\n",
      "Epoch 36, CIFAR-10 Batch 4:  Loss:     1.9352 Validation Accuracy: 0.402600\n",
      "Epoch 36, CIFAR-10 Batch 5:  Loss:     2.4828 Validation Accuracy: 0.415800\n",
      "Epoch 37, CIFAR-10 Batch 1:  Loss:     2.2275 Validation Accuracy: 0.419600\n",
      "Epoch 37, CIFAR-10 Batch 2:  Loss:     2.4435 Validation Accuracy: 0.411800\n",
      "Epoch 37, CIFAR-10 Batch 3:  Loss:     2.9398 Validation Accuracy: 0.397600\n",
      "Epoch 37, CIFAR-10 Batch 4:  Loss:     1.8898 Validation Accuracy: 0.419400\n",
      "Epoch 37, CIFAR-10 Batch 5:  Loss:     1.8699 Validation Accuracy: 0.415600\n",
      "Epoch 38, CIFAR-10 Batch 1:  Loss:     1.4871 Validation Accuracy: 0.402200\n",
      "Epoch 38, CIFAR-10 Batch 2:  Loss:     2.6722 Validation Accuracy: 0.411000\n",
      "Epoch 38, CIFAR-10 Batch 3:  Loss:     1.7740 Validation Accuracy: 0.416800\n",
      "Epoch 38, CIFAR-10 Batch 4:  Loss:     1.4559 Validation Accuracy: 0.428800\n",
      "Epoch 38, CIFAR-10 Batch 5:  Loss:     1.6338 Validation Accuracy: 0.399200\n",
      "Epoch 39, CIFAR-10 Batch 1:  Loss:     1.6085 Validation Accuracy: 0.408000\n",
      "Epoch 39, CIFAR-10 Batch 2:  Loss:     1.9346 Validation Accuracy: 0.383200\n",
      "Epoch 39, CIFAR-10 Batch 3:  Loss:     1.5264 Validation Accuracy: 0.408800\n",
      "Epoch 39, CIFAR-10 Batch 4:  Loss:     1.3629 Validation Accuracy: 0.418000\n",
      "Epoch 39, CIFAR-10 Batch 5:  Loss:     1.8851 Validation Accuracy: 0.401600\n",
      "Epoch 40, CIFAR-10 Batch 1:  Loss:     1.4725 Validation Accuracy: 0.410000\n",
      "Epoch 40, CIFAR-10 Batch 2:  Loss:     2.1246 Validation Accuracy: 0.421600\n",
      "Epoch 40, CIFAR-10 Batch 3:  Loss:     1.6530 Validation Accuracy: 0.426400\n",
      "Epoch 40, CIFAR-10 Batch 4:  Loss:     1.4364 Validation Accuracy: 0.409200\n",
      "Epoch 40, CIFAR-10 Batch 5:  Loss:     1.4514 Validation Accuracy: 0.421000\n",
      "Epoch 41, CIFAR-10 Batch 1:  Loss:     1.3676 Validation Accuracy: 0.415400\n",
      "Epoch 41, CIFAR-10 Batch 2:  Loss:     1.8384 Validation Accuracy: 0.433600\n",
      "Epoch 41, CIFAR-10 Batch 3:  Loss:     1.1708 Validation Accuracy: 0.423200\n",
      "Epoch 41, CIFAR-10 Batch 4:  Loss:     1.4097 Validation Accuracy: 0.428400\n",
      "Epoch 41, CIFAR-10 Batch 5:  Loss:     1.4944 Validation Accuracy: 0.409400\n",
      "Epoch 42, CIFAR-10 Batch 1:  Loss:     1.3654 Validation Accuracy: 0.418800\n",
      "Epoch 42, CIFAR-10 Batch 2:  Loss:     1.5845 Validation Accuracy: 0.432400\n",
      "Epoch 42, CIFAR-10 Batch 3:  Loss:     1.6016 Validation Accuracy: 0.423200\n",
      "Epoch 42, CIFAR-10 Batch 4:  Loss:     1.3976 Validation Accuracy: 0.429400\n",
      "Epoch 42, CIFAR-10 Batch 5:  Loss:     1.4118 Validation Accuracy: 0.418600\n",
      "Epoch 43, CIFAR-10 Batch 1:  Loss:     1.4271 Validation Accuracy: 0.431800\n",
      "Epoch 43, CIFAR-10 Batch 2:  Loss:     1.4799 Validation Accuracy: 0.429800\n",
      "Epoch 43, CIFAR-10 Batch 3:  Loss:     1.2064 Validation Accuracy: 0.450400\n",
      "Epoch 43, CIFAR-10 Batch 4:  Loss:     1.4172 Validation Accuracy: 0.427600\n",
      "Epoch 43, CIFAR-10 Batch 5:  Loss:     1.3755 Validation Accuracy: 0.436600\n",
      "Epoch 44, CIFAR-10 Batch 1:  Loss:     1.2831 Validation Accuracy: 0.443800\n",
      "Epoch 44, CIFAR-10 Batch 2:  Loss:     1.4377 Validation Accuracy: 0.443400\n",
      "Epoch 44, CIFAR-10 Batch 3:  Loss:     1.2520 Validation Accuracy: 0.457000\n",
      "Epoch 44, CIFAR-10 Batch 4:  Loss:     1.4051 Validation Accuracy: 0.445800\n",
      "Epoch 44, CIFAR-10 Batch 5:  Loss:     1.3535 Validation Accuracy: 0.445400\n",
      "Epoch 45, CIFAR-10 Batch 1:  Loss:     1.1544 Validation Accuracy: 0.466600\n",
      "Epoch 45, CIFAR-10 Batch 2:  Loss:     1.2718 Validation Accuracy: 0.462200\n",
      "Epoch 45, CIFAR-10 Batch 3:  Loss:     1.1746 Validation Accuracy: 0.472000\n",
      "Epoch 45, CIFAR-10 Batch 4:  Loss:     1.3968 Validation Accuracy: 0.471600\n",
      "Epoch 45, CIFAR-10 Batch 5:  Loss:     1.2429 Validation Accuracy: 0.461200\n",
      "Epoch 46, CIFAR-10 Batch 1:  Loss:     1.1852 Validation Accuracy: 0.470800\n",
      "Epoch 46, CIFAR-10 Batch 2:  Loss:     1.3356 Validation Accuracy: 0.468600\n",
      "Epoch 46, CIFAR-10 Batch 3:  Loss:     1.1051 Validation Accuracy: 0.471600\n",
      "Epoch 46, CIFAR-10 Batch 4:  Loss:     1.1988 Validation Accuracy: 0.481400\n",
      "Epoch 46, CIFAR-10 Batch 5:  Loss:     1.1450 Validation Accuracy: 0.480000\n",
      "Epoch 47, CIFAR-10 Batch 1:  Loss:     1.1667 Validation Accuracy: 0.481600\n",
      "Epoch 47, CIFAR-10 Batch 2:  Loss:     1.2631 Validation Accuracy: 0.481000\n",
      "Epoch 47, CIFAR-10 Batch 3:  Loss:     1.0665 Validation Accuracy: 0.480400\n",
      "Epoch 47, CIFAR-10 Batch 4:  Loss:     1.2271 Validation Accuracy: 0.487600\n",
      "Epoch 47, CIFAR-10 Batch 5:  Loss:     1.0408 Validation Accuracy: 0.483400\n",
      "Epoch 48, CIFAR-10 Batch 1:  Loss:     1.1269 Validation Accuracy: 0.484600\n",
      "Epoch 48, CIFAR-10 Batch 2:  Loss:     1.3022 Validation Accuracy: 0.482400\n",
      "Epoch 48, CIFAR-10 Batch 3:  Loss:     0.9948 Validation Accuracy: 0.494200\n",
      "Epoch 48, CIFAR-10 Batch 4:  Loss:     1.1456 Validation Accuracy: 0.497400\n",
      "Epoch 48, CIFAR-10 Batch 5:  Loss:     1.0972 Validation Accuracy: 0.498600\n",
      "Epoch 49, CIFAR-10 Batch 1:  Loss:     1.0373 Validation Accuracy: 0.491200\n",
      "Epoch 49, CIFAR-10 Batch 2:  Loss:     1.1991 Validation Accuracy: 0.490800\n",
      "Epoch 49, CIFAR-10 Batch 3:  Loss:     0.9500 Validation Accuracy: 0.500000\n",
      "Epoch 49, CIFAR-10 Batch 4:  Loss:     1.1221 Validation Accuracy: 0.511200\n",
      "Epoch 49, CIFAR-10 Batch 5:  Loss:     1.0442 Validation Accuracy: 0.512200\n",
      "Epoch 50, CIFAR-10 Batch 1:  Loss:     1.1392 Validation Accuracy: 0.511200\n",
      "Epoch 50, CIFAR-10 Batch 2:  Loss:     1.1357 Validation Accuracy: 0.503600\n",
      "Epoch 50, CIFAR-10 Batch 3:  Loss:     0.9351 Validation Accuracy: 0.519800\n",
      "Epoch 50, CIFAR-10 Batch 4:  Loss:     1.0380 Validation Accuracy: 0.516400\n",
      "Epoch 50, CIFAR-10 Batch 5:  Loss:     1.0346 Validation Accuracy: 0.518600\n",
      "Epoch 51, CIFAR-10 Batch 1:  Loss:     1.0475 Validation Accuracy: 0.522000\n",
      "Epoch 51, CIFAR-10 Batch 2:  Loss:     1.1229 Validation Accuracy: 0.503600\n",
      "Epoch 51, CIFAR-10 Batch 3:  Loss:     0.9583 Validation Accuracy: 0.520600\n",
      "Epoch 51, CIFAR-10 Batch 4:  Loss:     0.9600 Validation Accuracy: 0.499800\n",
      "Epoch 51, CIFAR-10 Batch 5:  Loss:     1.0227 Validation Accuracy: 0.517000\n",
      "Epoch 52, CIFAR-10 Batch 1:  Loss:     1.0220 Validation Accuracy: 0.523400\n",
      "Epoch 52, CIFAR-10 Batch 2:  Loss:     1.0575 Validation Accuracy: 0.526400\n",
      "Epoch 52, CIFAR-10 Batch 3:  Loss:     0.8702 Validation Accuracy: 0.516600\n",
      "Epoch 52, CIFAR-10 Batch 4:  Loss:     0.9750 Validation Accuracy: 0.508600\n",
      "Epoch 52, CIFAR-10 Batch 5:  Loss:     0.9622 Validation Accuracy: 0.520800\n",
      "Epoch 53, CIFAR-10 Batch 1:  Loss:     0.9744 Validation Accuracy: 0.524600\n",
      "Epoch 53, CIFAR-10 Batch 2:  Loss:     0.9764 Validation Accuracy: 0.540000\n",
      "Epoch 53, CIFAR-10 Batch 3:  Loss:     0.8349 Validation Accuracy: 0.535600\n",
      "Epoch 53, CIFAR-10 Batch 4:  Loss:     0.8173 Validation Accuracy: 0.528200\n",
      "Epoch 53, CIFAR-10 Batch 5:  Loss:     0.9912 Validation Accuracy: 0.526400\n",
      "Epoch 54, CIFAR-10 Batch 1:  Loss:     0.9899 Validation Accuracy: 0.532800\n",
      "Epoch 54, CIFAR-10 Batch 2:  Loss:     0.9337 Validation Accuracy: 0.539400\n",
      "Epoch 54, CIFAR-10 Batch 3:  Loss:     0.7129 Validation Accuracy: 0.535800\n",
      "Epoch 54, CIFAR-10 Batch 4:  Loss:     0.8685 Validation Accuracy: 0.515600\n",
      "Epoch 54, CIFAR-10 Batch 5:  Loss:     0.8911 Validation Accuracy: 0.532600\n",
      "Epoch 55, CIFAR-10 Batch 1:  Loss:     0.9013 Validation Accuracy: 0.532000\n",
      "Epoch 55, CIFAR-10 Batch 2:  Loss:     0.8918 Validation Accuracy: 0.529800\n",
      "Epoch 55, CIFAR-10 Batch 3:  Loss:     0.7429 Validation Accuracy: 0.529400\n",
      "Epoch 55, CIFAR-10 Batch 4:  Loss:     0.7959 Validation Accuracy: 0.530200\n",
      "Epoch 55, CIFAR-10 Batch 5:  Loss:     0.8998 Validation Accuracy: 0.531000\n",
      "Epoch 56, CIFAR-10 Batch 1:  Loss:     0.9844 Validation Accuracy: 0.535600\n",
      "Epoch 56, CIFAR-10 Batch 2:  Loss:     0.8921 Validation Accuracy: 0.547200\n",
      "Epoch 56, CIFAR-10 Batch 3:  Loss:     0.7561 Validation Accuracy: 0.540200\n",
      "Epoch 56, CIFAR-10 Batch 4:  Loss:     0.7503 Validation Accuracy: 0.531600\n",
      "Epoch 56, CIFAR-10 Batch 5:  Loss:     0.8569 Validation Accuracy: 0.536200\n",
      "Epoch 57, CIFAR-10 Batch 1:  Loss:     0.8917 Validation Accuracy: 0.544600\n",
      "Epoch 57, CIFAR-10 Batch 2:  Loss:     0.8135 Validation Accuracy: 0.542000\n",
      "Epoch 57, CIFAR-10 Batch 3:  Loss:     0.6629 Validation Accuracy: 0.550800\n",
      "Epoch 57, CIFAR-10 Batch 4:  Loss:     0.7406 Validation Accuracy: 0.536600\n",
      "Epoch 57, CIFAR-10 Batch 5:  Loss:     0.7190 Validation Accuracy: 0.542800\n",
      "Epoch 58, CIFAR-10 Batch 1:  Loss:     0.8392 Validation Accuracy: 0.540600\n",
      "Epoch 58, CIFAR-10 Batch 2:  Loss:     0.7648 Validation Accuracy: 0.546200\n",
      "Epoch 58, CIFAR-10 Batch 3:  Loss:     0.6080 Validation Accuracy: 0.563000\n",
      "Epoch 58, CIFAR-10 Batch 4:  Loss:     0.6938 Validation Accuracy: 0.529600\n",
      "Epoch 58, CIFAR-10 Batch 5:  Loss:     0.8303 Validation Accuracy: 0.538200\n",
      "Epoch 59, CIFAR-10 Batch 1:  Loss:     0.8315 Validation Accuracy: 0.524000\n",
      "Epoch 59, CIFAR-10 Batch 2:  Loss:     0.7848 Validation Accuracy: 0.557000\n",
      "Epoch 59, CIFAR-10 Batch 3:  Loss:     0.5884 Validation Accuracy: 0.563000\n",
      "Epoch 59, CIFAR-10 Batch 4:  Loss:     0.5944 Validation Accuracy: 0.555600\n",
      "Epoch 59, CIFAR-10 Batch 5:  Loss:     0.6835 Validation Accuracy: 0.546000\n",
      "Epoch 60, CIFAR-10 Batch 1:  Loss:     0.6293 Validation Accuracy: 0.549200\n",
      "Epoch 60, CIFAR-10 Batch 2:  Loss:     0.6965 Validation Accuracy: 0.545600\n",
      "Epoch 60, CIFAR-10 Batch 3:  Loss:     0.5692 Validation Accuracy: 0.559000\n",
      "Epoch 60, CIFAR-10 Batch 4:  Loss:     0.5376 Validation Accuracy: 0.551400\n",
      "Epoch 60, CIFAR-10 Batch 5:  Loss:     0.7314 Validation Accuracy: 0.572000\n",
      "Epoch 61, CIFAR-10 Batch 1:  Loss:     0.8290 Validation Accuracy: 0.551600\n",
      "Epoch 61, CIFAR-10 Batch 2:  Loss:     0.6755 Validation Accuracy: 0.559600\n",
      "Epoch 61, CIFAR-10 Batch 3:  Loss:     0.4261 Validation Accuracy: 0.567000\n",
      "Epoch 61, CIFAR-10 Batch 4:  Loss:     0.5634 Validation Accuracy: 0.566600\n",
      "Epoch 61, CIFAR-10 Batch 5:  Loss:     0.7274 Validation Accuracy: 0.560800\n",
      "Epoch 62, CIFAR-10 Batch 1:  Loss:     0.7050 Validation Accuracy: 0.552600\n",
      "Epoch 62, CIFAR-10 Batch 2:  Loss:     0.6329 Validation Accuracy: 0.568000\n",
      "Epoch 62, CIFAR-10 Batch 3:  Loss:     0.4771 Validation Accuracy: 0.559200\n",
      "Epoch 62, CIFAR-10 Batch 4:  Loss:     0.5255 Validation Accuracy: 0.563800\n",
      "Epoch 62, CIFAR-10 Batch 5:  Loss:     0.6772 Validation Accuracy: 0.553400\n",
      "Epoch 63, CIFAR-10 Batch 1:  Loss:     0.6256 Validation Accuracy: 0.545000\n",
      "Epoch 63, CIFAR-10 Batch 2:  Loss:     0.6039 Validation Accuracy: 0.562200\n",
      "Epoch 63, CIFAR-10 Batch 3:  Loss:     0.4650 Validation Accuracy: 0.569400\n",
      "Epoch 63, CIFAR-10 Batch 4:  Loss:     0.4967 Validation Accuracy: 0.571400\n",
      "Epoch 63, CIFAR-10 Batch 5:  Loss:     0.6017 Validation Accuracy: 0.567600\n",
      "Epoch 64, CIFAR-10 Batch 1:  Loss:     0.5421 Validation Accuracy: 0.560800\n",
      "Epoch 64, CIFAR-10 Batch 2:  Loss:     0.5449 Validation Accuracy: 0.563000\n",
      "Epoch 64, CIFAR-10 Batch 3:  Loss:     0.3756 Validation Accuracy: 0.576200\n",
      "Epoch 64, CIFAR-10 Batch 4:  Loss:     0.4586 Validation Accuracy: 0.548400\n",
      "Epoch 64, CIFAR-10 Batch 5:  Loss:     0.5192 Validation Accuracy: 0.561200\n",
      "Epoch 65, CIFAR-10 Batch 1:  Loss:     0.4664 Validation Accuracy: 0.566000\n",
      "Epoch 65, CIFAR-10 Batch 2:  Loss:     0.6304 Validation Accuracy: 0.575800\n",
      "Epoch 65, CIFAR-10 Batch 3:  Loss:     0.3281 Validation Accuracy: 0.576400\n",
      "Epoch 65, CIFAR-10 Batch 4:  Loss:     0.3852 Validation Accuracy: 0.572800\n",
      "Epoch 65, CIFAR-10 Batch 5:  Loss:     0.4912 Validation Accuracy: 0.577200\n",
      "Epoch 66, CIFAR-10 Batch 1:  Loss:     0.5030 Validation Accuracy: 0.578600\n",
      "Epoch 66, CIFAR-10 Batch 2:  Loss:     0.5048 Validation Accuracy: 0.587600\n",
      "Epoch 66, CIFAR-10 Batch 3:  Loss:     0.2519 Validation Accuracy: 0.578000\n",
      "Epoch 66, CIFAR-10 Batch 4:  Loss:     0.3651 Validation Accuracy: 0.568800\n",
      "Epoch 66, CIFAR-10 Batch 5:  Loss:     0.5841 Validation Accuracy: 0.583400\n",
      "Epoch 67, CIFAR-10 Batch 1:  Loss:     0.5122 Validation Accuracy: 0.571000\n",
      "Epoch 67, CIFAR-10 Batch 2:  Loss:     0.4228 Validation Accuracy: 0.569400\n",
      "Epoch 67, CIFAR-10 Batch 3:  Loss:     0.1965 Validation Accuracy: 0.578600\n",
      "Epoch 67, CIFAR-10 Batch 4:  Loss:     0.3656 Validation Accuracy: 0.570400\n",
      "Epoch 67, CIFAR-10 Batch 5:  Loss:     0.4423 Validation Accuracy: 0.582000\n",
      "Epoch 68, CIFAR-10 Batch 1:  Loss:     0.4400 Validation Accuracy: 0.580400\n",
      "Epoch 68, CIFAR-10 Batch 2:  Loss:     0.3845 Validation Accuracy: 0.578400\n",
      "Epoch 68, CIFAR-10 Batch 3:  Loss:     0.2577 Validation Accuracy: 0.582000\n",
      "Epoch 68, CIFAR-10 Batch 4:  Loss:     0.3150 Validation Accuracy: 0.583200\n",
      "Epoch 68, CIFAR-10 Batch 5:  Loss:     0.3984 Validation Accuracy: 0.579400\n",
      "Epoch 69, CIFAR-10 Batch 1:  Loss:     0.3684 Validation Accuracy: 0.576400\n",
      "Epoch 69, CIFAR-10 Batch 2:  Loss:     0.4572 Validation Accuracy: 0.570200\n",
      "Epoch 69, CIFAR-10 Batch 3:  Loss:     0.2143 Validation Accuracy: 0.578200\n",
      "Epoch 69, CIFAR-10 Batch 4:  Loss:     0.3276 Validation Accuracy: 0.567000\n",
      "Epoch 69, CIFAR-10 Batch 5:  Loss:     0.3178 Validation Accuracy: 0.583200\n",
      "Epoch 70, CIFAR-10 Batch 1:  Loss:     0.3636 Validation Accuracy: 0.570400\n",
      "Epoch 70, CIFAR-10 Batch 2:  Loss:     0.3918 Validation Accuracy: 0.580400\n",
      "Epoch 70, CIFAR-10 Batch 3:  Loss:     0.2124 Validation Accuracy: 0.584200\n",
      "Epoch 70, CIFAR-10 Batch 4:  Loss:     0.2869 Validation Accuracy: 0.571200\n",
      "Epoch 70, CIFAR-10 Batch 5:  Loss:     0.3064 Validation Accuracy: 0.591600\n",
      "Epoch 71, CIFAR-10 Batch 1:  Loss:     0.4301 Validation Accuracy: 0.579200\n",
      "Epoch 71, CIFAR-10 Batch 2:  Loss:     0.3656 Validation Accuracy: 0.593000\n",
      "Epoch 71, CIFAR-10 Batch 3:  Loss:     0.2231 Validation Accuracy: 0.583200\n",
      "Epoch 71, CIFAR-10 Batch 4:  Loss:     0.3011 Validation Accuracy: 0.579000\n",
      "Epoch 71, CIFAR-10 Batch 5:  Loss:     0.3104 Validation Accuracy: 0.593400\n",
      "Epoch 72, CIFAR-10 Batch 1:  Loss:     0.4047 Validation Accuracy: 0.574400\n",
      "Epoch 72, CIFAR-10 Batch 2:  Loss:     0.2847 Validation Accuracy: 0.588000\n",
      "Epoch 72, CIFAR-10 Batch 3:  Loss:     0.2156 Validation Accuracy: 0.593800\n",
      "Epoch 72, CIFAR-10 Batch 4:  Loss:     0.3803 Validation Accuracy: 0.580600\n",
      "Epoch 72, CIFAR-10 Batch 5:  Loss:     0.2872 Validation Accuracy: 0.594200\n",
      "Epoch 73, CIFAR-10 Batch 1:  Loss:     0.4040 Validation Accuracy: 0.577600\n",
      "Epoch 73, CIFAR-10 Batch 2:  Loss:     0.3696 Validation Accuracy: 0.587800\n",
      "Epoch 73, CIFAR-10 Batch 3:  Loss:     0.1288 Validation Accuracy: 0.592200\n",
      "Epoch 73, CIFAR-10 Batch 4:  Loss:     0.2646 Validation Accuracy: 0.588200\n",
      "Epoch 73, CIFAR-10 Batch 5:  Loss:     0.3431 Validation Accuracy: 0.587800\n",
      "Epoch 74, CIFAR-10 Batch 1:  Loss:     0.3185 Validation Accuracy: 0.579000\n",
      "Epoch 74, CIFAR-10 Batch 2:  Loss:     0.3603 Validation Accuracy: 0.595000\n",
      "Epoch 74, CIFAR-10 Batch 3:  Loss:     0.1225 Validation Accuracy: 0.600600\n",
      "Epoch 74, CIFAR-10 Batch 4:  Loss:     0.2135 Validation Accuracy: 0.585200\n",
      "Epoch 74, CIFAR-10 Batch 5:  Loss:     0.5392 Validation Accuracy: 0.594600\n",
      "Epoch 75, CIFAR-10 Batch 1:  Loss:     0.3500 Validation Accuracy: 0.592200\n",
      "Epoch 75, CIFAR-10 Batch 2:  Loss:     0.3027 Validation Accuracy: 0.605600\n",
      "Epoch 75, CIFAR-10 Batch 3:  Loss:     0.1342 Validation Accuracy: 0.598000\n",
      "Epoch 75, CIFAR-10 Batch 4:  Loss:     0.1939 Validation Accuracy: 0.585600\n",
      "Epoch 75, CIFAR-10 Batch 5:  Loss:     0.2086 Validation Accuracy: 0.604600\n",
      "Epoch 76, CIFAR-10 Batch 1:  Loss:     0.2576 Validation Accuracy: 0.597000\n",
      "Epoch 76, CIFAR-10 Batch 2:  Loss:     0.2917 Validation Accuracy: 0.600600\n",
      "Epoch 76, CIFAR-10 Batch 3:  Loss:     0.2251 Validation Accuracy: 0.599200\n",
      "Epoch 76, CIFAR-10 Batch 4:  Loss:     0.2082 Validation Accuracy: 0.588000\n",
      "Epoch 76, CIFAR-10 Batch 5:  Loss:     0.1988 Validation Accuracy: 0.601600\n",
      "Epoch 77, CIFAR-10 Batch 1:  Loss:     0.3297 Validation Accuracy: 0.594600\n",
      "Epoch 77, CIFAR-10 Batch 2:  Loss:     0.2843 Validation Accuracy: 0.599600\n",
      "Epoch 77, CIFAR-10 Batch 3:  Loss:     0.1151 Validation Accuracy: 0.596800\n",
      "Epoch 77, CIFAR-10 Batch 4:  Loss:     0.2278 Validation Accuracy: 0.595400\n",
      "Epoch 77, CIFAR-10 Batch 5:  Loss:     0.2401 Validation Accuracy: 0.605200\n",
      "Epoch 78, CIFAR-10 Batch 1:  Loss:     0.2709 Validation Accuracy: 0.593800\n",
      "Epoch 78, CIFAR-10 Batch 2:  Loss:     0.2860 Validation Accuracy: 0.594600\n",
      "Epoch 78, CIFAR-10 Batch 3:  Loss:     0.1715 Validation Accuracy: 0.600400\n",
      "Epoch 78, CIFAR-10 Batch 4:  Loss:     0.1669 Validation Accuracy: 0.597800\n",
      "Epoch 78, CIFAR-10 Batch 5:  Loss:     0.2037 Validation Accuracy: 0.607000\n",
      "Epoch 79, CIFAR-10 Batch 1:  Loss:     0.2310 Validation Accuracy: 0.595400\n",
      "Epoch 79, CIFAR-10 Batch 2:  Loss:     0.2773 Validation Accuracy: 0.597400\n",
      "Epoch 79, CIFAR-10 Batch 3:  Loss:     0.1565 Validation Accuracy: 0.603600\n",
      "Epoch 79, CIFAR-10 Batch 4:  Loss:     0.1852 Validation Accuracy: 0.594800\n",
      "Epoch 79, CIFAR-10 Batch 5:  Loss:     0.1797 Validation Accuracy: 0.601600\n",
      "Epoch 80, CIFAR-10 Batch 1:  Loss:     0.2571 Validation Accuracy: 0.602600\n",
      "Epoch 80, CIFAR-10 Batch 2:  Loss:     0.2014 Validation Accuracy: 0.596200\n",
      "Epoch 80, CIFAR-10 Batch 3:  Loss:     0.0981 Validation Accuracy: 0.592000\n",
      "Epoch 80, CIFAR-10 Batch 4:  Loss:     0.1307 Validation Accuracy: 0.592800\n",
      "Epoch 80, CIFAR-10 Batch 5:  Loss:     0.1483 Validation Accuracy: 0.604800\n",
      "Epoch 81, CIFAR-10 Batch 1:  Loss:     0.2314 Validation Accuracy: 0.606800\n",
      "Epoch 81, CIFAR-10 Batch 2:  Loss:     0.2601 Validation Accuracy: 0.590600\n",
      "Epoch 81, CIFAR-10 Batch 3:  Loss:     0.1154 Validation Accuracy: 0.600800\n",
      "Epoch 81, CIFAR-10 Batch 4:  Loss:     0.1432 Validation Accuracy: 0.590200\n",
      "Epoch 81, CIFAR-10 Batch 5:  Loss:     0.1627 Validation Accuracy: 0.603600\n",
      "Epoch 82, CIFAR-10 Batch 1:  Loss:     0.2581 Validation Accuracy: 0.607400\n",
      "Epoch 82, CIFAR-10 Batch 2:  Loss:     0.2573 Validation Accuracy: 0.610600\n",
      "Epoch 82, CIFAR-10 Batch 3:  Loss:     0.0843 Validation Accuracy: 0.609200\n",
      "Epoch 82, CIFAR-10 Batch 4:  Loss:     0.1512 Validation Accuracy: 0.608600\n",
      "Epoch 82, CIFAR-10 Batch 5:  Loss:     0.1469 Validation Accuracy: 0.604000\n",
      "Epoch 83, CIFAR-10 Batch 1:  Loss:     0.2147 Validation Accuracy: 0.608200\n",
      "Epoch 83, CIFAR-10 Batch 2:  Loss:     0.1974 Validation Accuracy: 0.597800\n",
      "Epoch 83, CIFAR-10 Batch 3:  Loss:     0.0872 Validation Accuracy: 0.607200\n",
      "Epoch 83, CIFAR-10 Batch 4:  Loss:     0.1328 Validation Accuracy: 0.601000\n",
      "Epoch 83, CIFAR-10 Batch 5:  Loss:     0.1604 Validation Accuracy: 0.609600\n",
      "Epoch 84, CIFAR-10 Batch 1:  Loss:     0.2203 Validation Accuracy: 0.617600\n",
      "Epoch 84, CIFAR-10 Batch 2:  Loss:     0.2327 Validation Accuracy: 0.595400\n",
      "Epoch 84, CIFAR-10 Batch 3:  Loss:     0.1251 Validation Accuracy: 0.604600\n",
      "Epoch 84, CIFAR-10 Batch 4:  Loss:     0.1207 Validation Accuracy: 0.610600\n",
      "Epoch 84, CIFAR-10 Batch 5:  Loss:     0.1181 Validation Accuracy: 0.607400\n",
      "Epoch 85, CIFAR-10 Batch 1:  Loss:     0.1838 Validation Accuracy: 0.598000\n",
      "Epoch 85, CIFAR-10 Batch 2:  Loss:     0.1811 Validation Accuracy: 0.596400\n",
      "Epoch 85, CIFAR-10 Batch 3:  Loss:     0.0661 Validation Accuracy: 0.604800\n",
      "Epoch 85, CIFAR-10 Batch 4:  Loss:     0.1460 Validation Accuracy: 0.604400\n",
      "Epoch 85, CIFAR-10 Batch 5:  Loss:     0.1366 Validation Accuracy: 0.598200\n",
      "Epoch 86, CIFAR-10 Batch 1:  Loss:     0.2285 Validation Accuracy: 0.618800\n",
      "Epoch 86, CIFAR-10 Batch 2:  Loss:     0.1749 Validation Accuracy: 0.605800\n",
      "Epoch 86, CIFAR-10 Batch 3:  Loss:     0.1407 Validation Accuracy: 0.601600\n",
      "Epoch 86, CIFAR-10 Batch 4:  Loss:     0.1259 Validation Accuracy: 0.610800\n",
      "Epoch 86, CIFAR-10 Batch 5:  Loss:     0.0954 Validation Accuracy: 0.612200\n",
      "Epoch 87, CIFAR-10 Batch 1:  Loss:     0.1844 Validation Accuracy: 0.594800\n",
      "Epoch 87, CIFAR-10 Batch 2:  Loss:     0.2181 Validation Accuracy: 0.602400\n",
      "Epoch 87, CIFAR-10 Batch 3:  Loss:     0.0618 Validation Accuracy: 0.609200\n",
      "Epoch 87, CIFAR-10 Batch 4:  Loss:     0.1106 Validation Accuracy: 0.610600\n",
      "Epoch 87, CIFAR-10 Batch 5:  Loss:     0.1435 Validation Accuracy: 0.608600\n",
      "Epoch 88, CIFAR-10 Batch 1:  Loss:     0.1788 Validation Accuracy: 0.621400\n",
      "Epoch 88, CIFAR-10 Batch 2:  Loss:     0.1249 Validation Accuracy: 0.615200\n",
      "Epoch 88, CIFAR-10 Batch 3:  Loss:     0.0459 Validation Accuracy: 0.612000\n",
      "Epoch 88, CIFAR-10 Batch 4:  Loss:     0.0803 Validation Accuracy: 0.609000\n",
      "Epoch 88, CIFAR-10 Batch 5:  Loss:     0.1238 Validation Accuracy: 0.609800\n",
      "Epoch 89, CIFAR-10 Batch 1:  Loss:     0.1777 Validation Accuracy: 0.606800\n",
      "Epoch 89, CIFAR-10 Batch 2:  Loss:     0.1655 Validation Accuracy: 0.610400\n",
      "Epoch 89, CIFAR-10 Batch 3:  Loss:     0.0868 Validation Accuracy: 0.608600\n",
      "Epoch 89, CIFAR-10 Batch 4:  Loss:     0.1043 Validation Accuracy: 0.617200\n",
      "Epoch 89, CIFAR-10 Batch 5:  Loss:     0.2006 Validation Accuracy: 0.623200\n",
      "Epoch 90, CIFAR-10 Batch 1:  Loss:     0.2079 Validation Accuracy: 0.616200\n",
      "Epoch 90, CIFAR-10 Batch 2:  Loss:     0.1512 Validation Accuracy: 0.613400\n",
      "Epoch 90, CIFAR-10 Batch 3:  Loss:     0.0665 Validation Accuracy: 0.611200\n",
      "Epoch 90, CIFAR-10 Batch 4:  Loss:     0.1129 Validation Accuracy: 0.615800\n",
      "Epoch 90, CIFAR-10 Batch 5:  Loss:     0.0957 Validation Accuracy: 0.607000\n",
      "Epoch 91, CIFAR-10 Batch 1:  Loss:     0.1799 Validation Accuracy: 0.617400\n",
      "Epoch 91, CIFAR-10 Batch 2:  Loss:     0.2186 Validation Accuracy: 0.617000\n",
      "Epoch 91, CIFAR-10 Batch 3:  Loss:     0.0765 Validation Accuracy: 0.623600\n",
      "Epoch 91, CIFAR-10 Batch 4:  Loss:     0.1115 Validation Accuracy: 0.625400\n",
      "Epoch 91, CIFAR-10 Batch 5:  Loss:     0.1113 Validation Accuracy: 0.612400\n",
      "Epoch 92, CIFAR-10 Batch 1:  Loss:     0.1837 Validation Accuracy: 0.617000\n",
      "Epoch 92, CIFAR-10 Batch 2:  Loss:     0.1432 Validation Accuracy: 0.623800\n",
      "Epoch 92, CIFAR-10 Batch 3:  Loss:     0.0591 Validation Accuracy: 0.628000\n",
      "Epoch 92, CIFAR-10 Batch 4:  Loss:     0.1126 Validation Accuracy: 0.612400\n",
      "Epoch 92, CIFAR-10 Batch 5:  Loss:     0.1000 Validation Accuracy: 0.617800\n",
      "Epoch 93, CIFAR-10 Batch 1:  Loss:     0.1820 Validation Accuracy: 0.618000\n",
      "Epoch 93, CIFAR-10 Batch 2:  Loss:     0.1313 Validation Accuracy: 0.624400\n",
      "Epoch 93, CIFAR-10 Batch 3:  Loss:     0.0644 Validation Accuracy: 0.625600\n",
      "Epoch 93, CIFAR-10 Batch 4:  Loss:     0.1025 Validation Accuracy: 0.623600\n",
      "Epoch 93, CIFAR-10 Batch 5:  Loss:     0.0775 Validation Accuracy: 0.618000\n",
      "Epoch 94, CIFAR-10 Batch 1:  Loss:     0.1340 Validation Accuracy: 0.624000\n",
      "Epoch 94, CIFAR-10 Batch 2:  Loss:     0.1474 Validation Accuracy: 0.624000\n",
      "Epoch 94, CIFAR-10 Batch 3:  Loss:     0.0743 Validation Accuracy: 0.621600\n",
      "Epoch 94, CIFAR-10 Batch 4:  Loss:     0.0729 Validation Accuracy: 0.621400\n",
      "Epoch 94, CIFAR-10 Batch 5:  Loss:     0.0960 Validation Accuracy: 0.617600\n",
      "Epoch 95, CIFAR-10 Batch 1:  Loss:     0.1553 Validation Accuracy: 0.621400\n",
      "Epoch 95, CIFAR-10 Batch 2:  Loss:     0.1682 Validation Accuracy: 0.620600\n",
      "Epoch 95, CIFAR-10 Batch 3:  Loss:     0.0511 Validation Accuracy: 0.617000\n",
      "Epoch 95, CIFAR-10 Batch 4:  Loss:     0.0888 Validation Accuracy: 0.623200\n",
      "Epoch 95, CIFAR-10 Batch 5:  Loss:     0.0836 Validation Accuracy: 0.624600\n",
      "Epoch 96, CIFAR-10 Batch 1:  Loss:     0.1818 Validation Accuracy: 0.621200\n",
      "Epoch 96, CIFAR-10 Batch 2:  Loss:     0.1531 Validation Accuracy: 0.615000\n",
      "Epoch 96, CIFAR-10 Batch 3:  Loss:     0.0335 Validation Accuracy: 0.623200\n",
      "Epoch 96, CIFAR-10 Batch 4:  Loss:     0.0813 Validation Accuracy: 0.617800\n",
      "Epoch 96, CIFAR-10 Batch 5:  Loss:     0.1049 Validation Accuracy: 0.617200\n",
      "Epoch 97, CIFAR-10 Batch 1:  Loss:     0.1292 Validation Accuracy: 0.624200\n",
      "Epoch 97, CIFAR-10 Batch 2:  Loss:     0.0948 Validation Accuracy: 0.610800\n",
      "Epoch 97, CIFAR-10 Batch 3:  Loss:     0.0527 Validation Accuracy: 0.608400\n",
      "Epoch 97, CIFAR-10 Batch 4:  Loss:     0.1012 Validation Accuracy: 0.612800\n",
      "Epoch 97, CIFAR-10 Batch 5:  Loss:     0.1022 Validation Accuracy: 0.613800\n",
      "Epoch 98, CIFAR-10 Batch 1:  Loss:     0.1286 Validation Accuracy: 0.621400\n",
      "Epoch 98, CIFAR-10 Batch 2:  Loss:     0.1107 Validation Accuracy: 0.620400\n",
      "Epoch 98, CIFAR-10 Batch 3:  Loss:     0.0584 Validation Accuracy: 0.609400\n",
      "Epoch 98, CIFAR-10 Batch 4:  Loss:     0.0816 Validation Accuracy: 0.618400\n",
      "Epoch 98, CIFAR-10 Batch 5:  Loss:     0.0879 Validation Accuracy: 0.616400\n",
      "Epoch 99, CIFAR-10 Batch 1:  Loss:     0.1301 Validation Accuracy: 0.620200\n",
      "Epoch 99, CIFAR-10 Batch 2:  Loss:     0.1249 Validation Accuracy: 0.627600\n",
      "Epoch 99, CIFAR-10 Batch 3:  Loss:     0.0446 Validation Accuracy: 0.613800\n",
      "Epoch 99, CIFAR-10 Batch 4:  Loss:     0.0664 Validation Accuracy: 0.624000\n",
      "Epoch 99, CIFAR-10 Batch 5:  Loss:     0.2240 Validation Accuracy: 0.616800\n",
      "Epoch 100, CIFAR-10 Batch 1:  Loss:     0.1259 Validation Accuracy: 0.627200\n",
      "Epoch 100, CIFAR-10 Batch 2:  Loss:     0.1871 Validation Accuracy: 0.619800\n",
      "Epoch 100, CIFAR-10 Batch 3:  Loss:     0.0455 Validation Accuracy: 0.628200\n",
      "Epoch 100, CIFAR-10 Batch 4:  Loss:     0.0618 Validation Accuracy: 0.636600\n",
      "Epoch 100, CIFAR-10 Batch 5:  Loss:     0.0568 Validation Accuracy: 0.632000\n"
     ]
    }
   ],
   "source": [
    "\"\"\"\n",
    "DON'T MODIFY ANYTHING IN THIS CELL\n",
    "\"\"\"\n",
    "save_model_path = './image_classification'\n",
    "\n",
    "print('Training...')\n",
    "with tf.Session() as sess:\n",
    "    # Initializing the variables\n",
    "    sess.run(tf.global_variables_initializer())\n",
    "    \n",
    "    # Training cycle\n",
    "    for epoch in range(epochs):\n",
    "        # Loop over all batches\n",
    "        n_batches = 5\n",
    "        for batch_i in range(1, n_batches + 1):\n",
    "            for batch_features, batch_labels in helper.load_preprocess_training_batch(batch_i, batch_size):\n",
    "                train_neural_network(sess, optimizer, keep_probability, batch_features, batch_labels)\n",
    "            print('Epoch {:>2}, CIFAR-10 Batch {}:  '.format(epoch + 1, batch_i), end='')\n",
    "            print_stats(sess, batch_features, batch_labels, cost, accuracy)\n",
    "            \n",
    "    # Save Model\n",
    "    saver = tf.train.Saver()\n",
    "    save_path = saver.save(sess, save_model_path)"
   ]
  },
  {
   "cell_type": "markdown",
   "metadata": {
    "deletable": true,
    "editable": true
   },
   "source": [
    "# Checkpoint\n",
    "The model has been saved to disk.\n",
    "## Test Model\n",
    "Test your model against the test dataset.  This will be your final accuracy. You should have an accuracy greater than 50%. If you don't, keep tweaking the model architecture and parameters."
   ]
  },
  {
   "cell_type": "code",
   "execution_count": 47,
   "metadata": {
    "collapsed": false,
    "deletable": true,
    "editable": true
   },
   "outputs": [
    {
     "name": "stdout",
     "output_type": "stream",
     "text": [
      "Testing Accuracy: 0.6241099683544303\n",
      "\n"
     ]
    },
    {
     "data": {
      "image/png": "[encoded data removed]",
      "text/plain": [
       "<matplotlib.figure.Figure at 0x7fe24634fe10>"
      ]
     },
     "metadata": {
      "image/png": {
       "height": 319.0,
       "width": 355.0
      }
     },
     "output_type": "display_data"
    }
   ],
   "source": [
    "\"\"\"\n",
    "DON'T MODIFY ANYTHING IN THIS CELL\n",
    "\"\"\"\n",
    "%matplotlib inline\n",
    "%config InlineBackend.figure_format = 'retina'\n",
    "\n",
    "import tensorflow as tf\n",
    "import pickle\n",
    "import helper\n",
    "import random\n",
    "\n",
    "# Set batch size if not already set\n",
    "try:\n",
    "    if batch_size:\n",
    "        pass\n",
    "except NameError:\n",
    "    batch_size = 64\n",
    "\n",
    "save_model_path = './image_classification'\n",
    "n_samples = 4\n",
    "top_n_predictions = 3\n",
    "\n",
    "def test_model():\n",
    "    \"\"\"\n",
    "    Test the saved model against the test dataset\n",
    "    \"\"\"\n",
    "\n",
    "    test_features, test_labels = pickle.load(open('preprocess_training.p', mode='rb'))\n",
    "    loaded_graph = tf.Graph()\n",
    "\n",
    "    with tf.Session(graph=loaded_graph) as sess:\n",
    "        # Load model\n",
    "        loader = tf.train.import_meta_graph(save_model_path + '.meta')\n",
    "        loader.restore(sess, save_model_path)\n",
    "\n",
    "        # Get Tensors from loaded model\n",
    "        loaded_x = loaded_graph.get_tensor_by_name('x:0')\n",
    "        loaded_y = loaded_graph.get_tensor_by_name('y:0')\n",
    "        loaded_keep_prob = loaded_graph.get_tensor_by_name('keep_prob:0')\n",
    "        loaded_logits = loaded_graph.get_tensor_by_name('logits:0')\n",
    "        loaded_acc = loaded_graph.get_tensor_by_name('accuracy:0')\n",
    "        \n",
    "        # Get accuracy in batches for memory limitations\n",
    "        test_batch_acc_total = 0\n",
    "        test_batch_count = 0\n",
    "        \n",
    "        for train_feature_batch, train_label_batch in helper.batch_features_labels(test_features, test_labels, batch_size):\n",
    "            test_batch_acc_total += sess.run(\n",
    "                loaded_acc,\n",
    "                feed_dict={loaded_x: train_feature_batch, loaded_y: train_label_batch, loaded_keep_prob: 1.0})\n",
    "            test_batch_count += 1\n",
    "\n",
    "        print('Testing Accuracy: {}\\n'.format(test_batch_acc_total/test_batch_count))\n",
    "\n",
    "        # Print Random Samples\n",
    "        random_test_features, random_test_labels = tuple(zip(*random.sample(list(zip(test_features, test_labels)), n_samples)))\n",
    "        random_test_predictions = sess.run(\n",
    "            tf.nn.top_k(tf.nn.softmax(loaded_logits), top_n_predictions),\n",
    "            feed_dict={loaded_x: random_test_features, loaded_y: random_test_labels, loaded_keep_prob: 1.0})\n",
    "        helper.display_image_predictions(random_test_features, random_test_labels, random_test_predictions)\n",
    "\n",
    "\n",
    "test_model()"
   ]
  },
  {
   "cell_type": "markdown",
   "metadata": {
    "deletable": true,
    "editable": true
   },
   "source": [
    "## Why 50-80% Accuracy?\n",
    "You might be wondering why you can't get an accuracy any higher. First things first, 50% isn't bad for a simple CNN.  Pure guessing would get you 10% accuracy. However, you might notice people are getting scores [well above 80%](http://rodrigob.github.io/are_we_there_yet/build/classification_datasets_results.html#43494641522d3130).  That's because we haven't taught you all there is to know about neural networks. We still need to cover a few more techniques.\n",
    "## Submitting This Project\n",
    "When submitting this project, make sure to run all the cells before saving the notebook.  Save the notebook file as \"dlnd_image_classification.ipynb\" and save it as a HTML file under \"File\" -> \"Download as\".  Include the \"helper.py\" and \"problem_unittests.py\" files in your submission."
   ]
  },
  {
   "cell_type": "code",
   "execution_count": null,
   "metadata": {
    "collapsed": true
   },
   "outputs": [],
   "source": [
    ""
   ]
  }
 ],
 "metadata": {
  "kernelspec": {
   "display_name": "Python 3",
   "language": "python",
   "name": "python3"
  },
  "language_info": {
   "codemirror_mode": {
    "name": "ipython",
    "version": 3.0
   },
   "file_extension": ".py",
   "mimetype": "text/x-python",
   "name": "python",
   "nbconvert_exporter": "python",
   "pygments_lexer": "ipython3",
   "version": "3.5.2"
  },
  "widgets": {
   "state": {},
   "version": "1.1.2"
  }
 },
 "nbformat": 4,
 "nbformat_minor": 0
}